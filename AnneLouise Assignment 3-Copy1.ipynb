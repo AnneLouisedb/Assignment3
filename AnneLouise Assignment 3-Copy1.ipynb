{
 "cells": [
  {
   "cell_type": "markdown",
   "metadata": {},
   "source": [
    "# Assignment 3 copy\n",
    "### By AnneLouise de Boer"
   ]
  },
  {
   "cell_type": "markdown",
   "metadata": {},
   "source": [
    "The labelling typology for the dataset identifies for each comment a higher-level classification of whether that comment ‘has a place in\n",
    "a healthy online conversation’, accompanied for\n",
    "each comment by binary labels for whether it is:\n",
    "\n",
    "(1) hostile,\n",
    "\n",
    "(2) antagonistic, insulting, provocative or trolling (together, ‘antagonistic’),\n",
    "\n",
    "(3) dismissive\n",
    "\n",
    "(4) condescending or patronising (together, ‘condescending’)\n",
    "\n",
    "(5) sarcastic\n",
    "\n",
    "(6) an unfair generalisation.\n",
    "\n",
    "For each label there is also an associated confidence score (between 0.5 and 1).\n",
    "\n",
    "Trusted judgments column shows how many people have judged the comment. \n",
    "\n",
    "This is a multi-label classification problem.\n",
    "Every label corresponds to a binary classification problem and each comment can belong to more than one label simultaneously. \n",
    "For example, in our case a comment may be hostile, sarcastic and dismissive at the same time.\n",
    "\n",
    "We need to make a multi-labeled model capable of detecting different types of unhealthy like hostile, dismissive, antagonistic etc. We need to create a model which predicts a probability of each type of unhealthy for each comment.\n",
    "\n",
    "\n",
    "\n",
    "The UCC contributes further high quality data on attributes like sarcasm, hostility, and condescension, adding to existing datasets on these and related attributes, and provides (to the best of our knowledge) the first dataset of this scale with labels for dismissiveness, unfair generalisations, antagonistic behavior, and overall assessments of whether those comments fall within 'healthy' conversation.\n",
    "\n",
    "\n",
    "\n",
    "\n",
    "https://github.com/kesari007/Toxic-Comment-Classification/blob/master/Minor%202.ipynb"
   ]
  },
  {
   "cell_type": "code",
   "execution_count": 118,
   "metadata": {},
   "outputs": [],
   "source": [
    "import pandas as pd\n",
    "\n",
    "train_data_dir = \"/Users/annelouisedeboer/PycharmProjects/unhealthy-conversations/corpus/train.csv\"\n",
    "test_data_dir = \"/Users/annelouisedeboer/PycharmProjects/unhealthy-conversations/corpus/test.csv\"\n",
    "val_data_dir = \"/Users/annelouisedeboer/Desktop/unhealthy-conversations-master/corpus/val.csv\"\n",
    "train = pd.read_csv(train_data_dir, index_col = \"_unit_id\")\n",
    "test = pd.read_csv(test_data_dir, index_col = \"_unit_id\")\n",
    "val = pd.read_csv(val_data_dir, index_col = \"_unit_id\")\n",
    "\n",
    "\n",
    "frames = [train, val]\n",
    "\n",
    "train = pd.concat(frames)\n"
   ]
  },
  {
   "cell_type": "markdown",
   "metadata": {},
   "source": [
    "To increase the training dataset I will combine the validation and training dataset. Cros validation within the gridsearch, so to have more values to train on I combine the validation set and training set. "
   ]
  },
  {
   "cell_type": "code",
   "execution_count": 119,
   "metadata": {},
   "outputs": [
    {
     "name": "stdout",
     "output_type": "stream",
     "text": [
      "Index(['_trusted_judgments', 'comment', 'antagonise', 'antagonise:confidence',\n",
      "       'condescending', 'condescending:confidence', 'dismissive',\n",
      "       'dismissive:confidence', 'generalisation', 'generalisation:confidence',\n",
      "       'generalisation_unfair', 'generalisation_unfair:confidence', 'healthy',\n",
      "       'healthy:confidence', 'hostile', 'hostile:confidence', 'sarcastic',\n",
      "       'sarcastic:confidence'],\n",
      "      dtype='object')\n"
     ]
    }
   ],
   "source": [
    "print(train.columns)"
   ]
  },
  {
   "cell_type": "code",
   "execution_count": 120,
   "metadata": {},
   "outputs": [
    {
     "name": "stdout",
     "output_type": "stream",
     "text": [
      "(39930, 18)\n"
     ]
    }
   ],
   "source": [
    "print(train.shape)"
   ]
  },
  {
   "cell_type": "markdown",
   "metadata": {},
   "source": [
    "At first i reduced the size of the training data because it took my laptop a very long time to load. However, this could have been be due to the fact that it was loading the data from a web link and not from a file from my laptop directly. I later downloaded the files, so i could train on a bigger dataset. \n",
    "#train = train.sample(frac = 0.3)"
   ]
  },
  {
   "cell_type": "code",
   "execution_count": 121,
   "metadata": {},
   "outputs": [
    {
     "name": "stdout",
     "output_type": "stream",
     "text": [
      "_trusted_judgments                    int64\n",
      "comment                              object\n",
      "antagonise                            int64\n",
      "antagonise:confidence               float64\n",
      "condescending                         int64\n",
      "condescending:confidence            float64\n",
      "dismissive                            int64\n",
      "dismissive:confidence               float64\n",
      "generalisation                        int64\n",
      "generalisation:confidence           float64\n",
      "generalisation_unfair               float64\n",
      "generalisation_unfair:confidence    float64\n",
      "healthy                               int64\n",
      "healthy:confidence                  float64\n",
      "hostile                               int64\n",
      "hostile:confidence                  float64\n",
      "sarcastic                             int64\n",
      "sarcastic:confidence                float64\n",
      "dtype: object\n"
     ]
    }
   ],
   "source": [
    "print(train.dtypes)"
   ]
  },
  {
   "cell_type": "code",
   "execution_count": 122,
   "metadata": {},
   "outputs": [
    {
     "name": "stdout",
     "output_type": "stream",
     "text": [
      "True\n"
     ]
    }
   ],
   "source": [
    "print(train.isnull().values.any())"
   ]
  },
  {
   "cell_type": "code",
   "execution_count": 123,
   "metadata": {
    "scrolled": true
   },
   "outputs": [
    {
     "name": "stdout",
     "output_type": "stream",
     "text": [
      "_trusted_judgments                  False\n",
      "comment                              True\n",
      "antagonise                          False\n",
      "antagonise:confidence               False\n",
      "condescending                       False\n",
      "condescending:confidence            False\n",
      "dismissive                          False\n",
      "dismissive:confidence               False\n",
      "generalisation                      False\n",
      "generalisation:confidence           False\n",
      "generalisation_unfair               False\n",
      "generalisation_unfair:confidence    False\n",
      "healthy                             False\n",
      "healthy:confidence                  False\n",
      "hostile                             False\n",
      "hostile:confidence                  False\n",
      "sarcastic                           False\n",
      "sarcastic:confidence                False\n",
      "dtype: bool\n"
     ]
    }
   ],
   "source": [
    "print(train.isna().any())"
   ]
  },
  {
   "cell_type": "markdown",
   "metadata": {},
   "source": [
    "Colums that I will use do not contain NaN values."
   ]
  },
  {
   "cell_type": "code",
   "execution_count": 124,
   "metadata": {},
   "outputs": [
    {
     "name": "stdout",
     "output_type": "stream",
     "text": [
      "            _trusted_judgments  \\\n",
      "_unit_id                         \n",
      "2297540155                   5   \n",
      "1812168131                   5   \n",
      "1739466190                   3   \n",
      "1739453667                   3   \n",
      "1739459056                   3   \n",
      "...                        ...   \n",
      "1739458948                   3   \n",
      "1739459188                   3   \n",
      "1739448078                   3   \n",
      "2327179148                   3   \n",
      "1739469118                   3   \n",
      "\n",
      "                                                      comment  antagonise  \\\n",
      "_unit_id                                                                    \n",
      "2297540155  Personally I prefer the Flying Spaghetti Monst...           0   \n",
      "1812168131  Your comparing a pipeline to a well? One that ...           0   \n",
      "1739466190  Natives refuse to even consider that their cur...           0   \n",
      "1739453667  Bush could very well win an election today in ...           0   \n",
      "1739459056  Is a Trudeau endorsement OK? After all, he sup...           0   \n",
      "...                                                       ...         ...   \n",
      "1739458948  The article said the world's a better place, n...           0   \n",
      "1739459188  Now appearing with Internationalist as an Isla...           0   \n",
      "1739448078  I should add RBN, .. you have nothing to fear ...           0   \n",
      "2327179148  Since we're being literal, it's right there, n...           0   \n",
      "1739469118  Probably because he was comparing two provicnc...           0   \n",
      "\n",
      "            antagonise:confidence  condescending  condescending:confidence  \\\n",
      "_unit_id                                                                     \n",
      "2297540155                    1.0              0                    1.0000   \n",
      "1812168131                    1.0              0                    0.8063   \n",
      "1739466190                    1.0              0                    1.0000   \n",
      "1739453667                    1.0              0                    1.0000   \n",
      "1739459056                    1.0              0                    1.0000   \n",
      "...                           ...            ...                       ...   \n",
      "1739458948                    1.0              0                    1.0000   \n",
      "1739459188                    1.0              0                    1.0000   \n",
      "1739448078                    1.0              0                    1.0000   \n",
      "2327179148                    1.0              0                    1.0000   \n",
      "1739469118                    1.0              0                    1.0000   \n",
      "\n",
      "            dismissive  dismissive:confidence  generalisation  \\\n",
      "_unit_id                                                        \n",
      "2297540155           0                    1.0               0   \n",
      "1812168131           0                    1.0               0   \n",
      "1739466190           0                    1.0               0   \n",
      "1739453667           0                    1.0               0   \n",
      "1739459056           0                    1.0               0   \n",
      "...                ...                    ...             ...   \n",
      "1739458948           0                    1.0               0   \n",
      "1739459188           0                    1.0               0   \n",
      "1739448078           0                    1.0               0   \n",
      "2327179148           0                    1.0               0   \n",
      "1739469118           0                    1.0               0   \n",
      "\n",
      "            generalisation:confidence  generalisation_unfair  \\\n",
      "_unit_id                                                       \n",
      "2297540155                        1.0                    0.0   \n",
      "1812168131                        1.0                    0.0   \n",
      "1739466190                        1.0                    0.0   \n",
      "1739453667                        1.0                    0.0   \n",
      "1739459056                        1.0                    0.0   \n",
      "...                               ...                    ...   \n",
      "1739458948                        1.0                    0.0   \n",
      "1739459188                        1.0                    0.0   \n",
      "1739448078                        1.0                    0.0   \n",
      "2327179148                        1.0                    0.0   \n",
      "1739469118                        1.0                    0.0   \n",
      "\n",
      "            generalisation_unfair:confidence  healthy  healthy:confidence  \\\n",
      "_unit_id                                                                    \n",
      "2297540155                               1.0        1              0.7981   \n",
      "1812168131                               1.0        1              0.6081   \n",
      "1739466190                               1.0        1              1.0000   \n",
      "1739453667                               1.0        1              1.0000   \n",
      "1739459056                               1.0        1              1.0000   \n",
      "...                                      ...      ...                 ...   \n",
      "1739458948                               1.0        1              1.0000   \n",
      "1739459188                               1.0        1              1.0000   \n",
      "1739448078                               1.0        1              1.0000   \n",
      "2327179148                               1.0        1              1.0000   \n",
      "1739469118                               1.0        1              1.0000   \n",
      "\n",
      "            hostile  hostile:confidence  sarcastic  sarcastic:confidence  \n",
      "_unit_id                                                                  \n",
      "2297540155        0                 1.0          0                1.0000  \n",
      "1812168131        0                 1.0          0                0.8063  \n",
      "1739466190        0                 1.0          0                1.0000  \n",
      "1739453667        0                 1.0          0                1.0000  \n",
      "1739459056        0                 1.0          0                1.0000  \n",
      "...             ...                 ...        ...                   ...  \n",
      "1739458948        0                 1.0          0                1.0000  \n",
      "1739459188        0                 1.0          0                1.0000  \n",
      "1739448078        0                 1.0          0                1.0000  \n",
      "2327179148        0                 1.0          0                1.0000  \n",
      "1739469118        0                 1.0          0                1.0000  \n",
      "\n",
      "[36939 rows x 18 columns]\n"
     ]
    }
   ],
   "source": [
    "print(train[(train[\"healthy\"] == 1)])"
   ]
  },
  {
   "cell_type": "markdown",
   "metadata": {},
   "source": [
    "Looking at labels"
   ]
  },
  {
   "cell_type": "code",
   "execution_count": 125,
   "metadata": {},
   "outputs": [],
   "source": [
    "label = train[[\"antagonise\" , \"condescending\" , \"dismissive\" , \"generalisation\" , \"generalisation_unfair\" , \"healthy\" , \"hostile\" , \"sarcastic\"]]\n",
    "labels = label.columns\n",
    "confidence_labels = ['antagonise:confidence',\n",
    "                     'condescending:confidence',\n",
    "                     'dismissive:confidence',\n",
    "                     'generalisation:confidence',\n",
    "                     'generalisation_unfair:confidence',\n",
    "                     'hostile:confidence',\n",
    "                     'sarcastic:confidence']"
   ]
  },
  {
   "cell_type": "markdown",
   "metadata": {},
   "source": [
    "# 1. Data Preparation\n",
    "I will create new columns with confidence scores corresponding to the value 1 of each feature. In this way higher confidences weigh more and the two classes do not get mixed up (since confidence scores are > 0.5 initially)."
   ]
  },
  {
   "cell_type": "code",
   "execution_count": 126,
   "metadata": {},
   "outputs": [],
   "source": [
    "newtrain = pd.DataFrame()\n",
    "for feature in labels:\n",
    "    for value in train[feature]:\n",
    "        if value == 1:\n",
    "            newtrain[\"P1\" + feature] = train[feature+\":confidence\"]\n",
    "            newtrain[\"P0\" + feature] = 1 - train[feature+\":confidence\"]\n",
    "        else:\n",
    "            newtrain[\"P0\" + feature] = train[feature+\":confidence\"]\n",
    "            newtrain[\"P1\" + feature] = 1 - train[feature+\":confidence\"]"
   ]
  },
  {
   "cell_type": "code",
   "execution_count": 127,
   "metadata": {},
   "outputs": [],
   "source": [
    "x_train = newtrain.drop(['P0healthy','P1healthy'], axis = 1)\n",
    "y_train = newtrain[[\"P0healthy\",\"P1healthy\"]].copy()"
   ]
  },
  {
   "cell_type": "code",
   "execution_count": 128,
   "metadata": {},
   "outputs": [],
   "source": [
    "newtest = pd.DataFrame()\n",
    "for feature in labels:\n",
    "    for value in test[feature]:\n",
    "        if value == 1:\n",
    "            newtest[\"P1\" + feature] = test[feature+\":confidence\"]\n",
    "            newtest[\"P0\" + feature] = 1 - test[feature+\":confidence\"]\n",
    "        else:\n",
    "            newtest[\"P0\" + feature] = test[feature+\":confidence\"]\n",
    "            newtest[\"P1\" + feature] = 1 - test[feature+\":confidence\"]"
   ]
  },
  {
   "cell_type": "code",
   "execution_count": 129,
   "metadata": {},
   "outputs": [],
   "source": [
    "x_test = newtest.drop(['P0healthy','P1healthy'], axis = 1)\n",
    "y_test = newtest[[\"P0healthy\",\"P1healthy\"]].copy()"
   ]
  },
  {
   "cell_type": "code",
   "execution_count": 130,
   "metadata": {},
   "outputs": [
    {
     "name": "stdout",
     "output_type": "stream",
     "text": [
      "            P1antagonise  P0antagonise  P1condescending  P0condescending  \\\n",
      "_unit_id                                                                   \n",
      "1739460326        0.4184        0.5816           0.4184           0.5816   \n",
      "2297540155        0.0000        1.0000           0.0000           1.0000   \n",
      "1812168131        0.0000        1.0000           0.1937           0.8063   \n",
      "1739470334        0.2069        0.7931           0.4041           0.5959   \n",
      "1739466190        0.0000        1.0000           0.0000           1.0000   \n",
      "\n",
      "            P1dismissive  P0dismissive  P0generalisation  P1generalisation  \\\n",
      "_unit_id                                                                     \n",
      "1739460326        0.4184        0.5816               1.0               0.0   \n",
      "2297540155        0.0000        1.0000               1.0               0.0   \n",
      "1812168131        0.0000        1.0000               1.0               0.0   \n",
      "1739470334        0.4041        0.5959               1.0               0.0   \n",
      "1739466190        0.0000        1.0000               1.0               0.0   \n",
      "\n",
      "            P0generalisation_unfair  P1generalisation_unfair  P1hostile  \\\n",
      "_unit_id                                                                  \n",
      "1739460326                      1.0                      0.0     0.4184   \n",
      "2297540155                      1.0                      0.0     0.0000   \n",
      "1812168131                      1.0                      0.0     0.0000   \n",
      "1739470334                      1.0                      0.0     0.0000   \n",
      "1739466190                      1.0                      0.0     0.0000   \n",
      "\n",
      "            P0hostile  P0sarcastic  P1sarcastic  \n",
      "_unit_id                                         \n",
      "1739460326     0.5816       0.8001       0.1999  \n",
      "2297540155     1.0000       1.0000       0.0000  \n",
      "1812168131     1.0000       0.8063       0.1937  \n",
      "1739470334     1.0000       0.6052       0.3948  \n",
      "1739466190     1.0000       1.0000       0.0000  \n"
     ]
    }
   ],
   "source": [
    "P1_labels = [\"P1antagonise\", \"P1condescending\", \n",
    "             \"P1dismissive\", \"P1generalisation\",\n",
    "             \"P1generalisation_unfair\", \"P1hostile\",\n",
    "             \"P1sarcastic\"]\n",
    "P1_labels_and_P1healthy = [\"P1healthy\", \"P1antagonise\", \"P1condescending\", \n",
    "             \"P1dismissive\", \"P1generalisation\",\n",
    "             \"P1generalisation_unfair\", \"P1hostile\",\n",
    "             \"P1sarcastic\"]\n",
    "print(x_train.head())"
   ]
  },
  {
   "cell_type": "code",
   "execution_count": 131,
   "metadata": {
    "scrolled": true
   },
   "outputs": [
    {
     "name": "stdout",
     "output_type": "stream",
     "text": [
      "            P0healthy  P1healthy\n",
      "_unit_id                        \n",
      "1739460326     0.4184     0.5816\n",
      "2297540155     0.2019     0.7981\n",
      "1812168131     0.3919     0.6081\n",
      "1739470334     0.2083     0.7917\n",
      "1739466190     0.0000     1.0000\n",
      "...               ...        ...\n",
      "1739458948     0.0000     1.0000\n",
      "1739459188     0.0000     1.0000\n",
      "1739448078     0.0000     1.0000\n",
      "2327179148     0.0000     1.0000\n",
      "1739469118     0.0000     1.0000\n",
      "\n",
      "[39930 rows x 2 columns]\n"
     ]
    }
   ],
   "source": [
    "print(y_train)"
   ]
  },
  {
   "cell_type": "code",
   "execution_count": 132,
   "metadata": {},
   "outputs": [
    {
     "data": {
      "image/png": "[encoded data removed]",
      "text/plain": [
       "<Figure size 720x360 with 1 Axes>"
      ]
     },
     "metadata": {
      "needs_background": "light"
     },
     "output_type": "display_data"
    }
   ],
   "source": [
    "import matplotlib.pyplot as plt\n",
    "import seaborn as sns\n",
    "# Distribution of confidence score using histogram. \n",
    "plt.figure(figsize=(10,5))\n",
    "plt.title('Distribution of \"healthy\" confidence score',size = 20)\n",
    "sns.distplot(y_train,color='b');\n",
    "plt.title(\"Healthy confidence Distrubition\")\n",
    "plt.show()"
   ]
  },
  {
   "cell_type": "markdown",
   "metadata": {},
   "source": [
    "This analysis shows that most confidence scores are relatively high since values > 0.75 and < 0.25 show a higher confidence in a healthy comment and unhealthy comment respectively. "
   ]
  },
  {
   "cell_type": "markdown",
   "metadata": {},
   "source": [
    "# 1.2 Test, Train, and Sample Weights\n",
    "I will train the binary classifier with the condifence values of each P1 label. (e.g. confidence that the comment is sarcastic.) Since it is a binary classification (healthy vs. unhealthy) the y_train and y_test will be the column containing binary classes 0 and 1. Since a classification of 1 with a confidence score 0.55 is not the same as a classification of 1 with a confidence score 0.99, I will use sample weights to give make the scores with more confidence weigh more.  "
   ]
  },
  {
   "cell_type": "code",
   "execution_count": 133,
   "metadata": {},
   "outputs": [],
   "source": [
    "x_train = x_train[P1_labels]  #confidence values of the P1 labels\n",
    "x_test = x_test[P1_labels]   #confidence values of the P1 labels\n",
    "ytrain_sampleweight = train[\"healthy:confidence\"].values #confidence label\n",
    "ytest_sampleweight = test[\"healthy:confidence\"].values #confidence label\n"
   ]
  },
  {
   "cell_type": "code",
   "execution_count": 134,
   "metadata": {},
   "outputs": [],
   "source": [
    "#importing \n",
    "from sklearn.ensemble import RandomForestClassifier\n",
    "from sklearn.model_selection import cross_val_predict, cross_val_score\n",
    "from sklearn.metrics import roc_auc_score, roc_curve"
   ]
  },
  {
   "cell_type": "code",
   "execution_count": 135,
   "metadata": {},
   "outputs": [],
   "source": [
    "#y_train and y_test for the classifiers\n",
    "y_train = train[\"healthy\"].values #class values 0 and 1\n",
    "y_test = test[\"healthy\"].values   #class values 0 and 1\n"
   ]
  },
  {
   "cell_type": "code",
   "execution_count": 136,
   "metadata": {},
   "outputs": [
    {
     "name": "stdout",
     "output_type": "stream",
     "text": [
      "[0 1 1 ... 1 1 1]\n",
      "[1 1 1 ... 1 1 1]\n"
     ]
    }
   ],
   "source": [
    "print(y_train)\n",
    "print(y_test)"
   ]
  },
  {
   "cell_type": "markdown",
   "metadata": {},
   "source": [
    "# 1.3 Correlation Matrix"
   ]
  },
  {
   "cell_type": "code",
   "execution_count": 137,
   "metadata": {},
   "outputs": [
    {
     "data": {
      "text/plain": [
       "<matplotlib.axes._subplots.AxesSubplot at 0x7faacbc72640>"
      ]
     },
     "execution_count": 137,
     "metadata": {},
     "output_type": "execute_result"
    },
    {
     "data": {
      "image/png": "[encoded data removed]",
      "text/plain": [
       "<Figure size 720x576 with 2 Axes>"
      ]
     },
     "metadata": {
      "needs_background": "light"
     },
     "output_type": "display_data"
    }
   ],
   "source": [
    "import matplotlib.pyplot as plt\n",
    "import seaborn as sns\n",
    "\n",
    "corrtrain = newtrain[P1_labels_and_P1healthy]\n",
    "corr= corrtrain.corr()\n",
    "plt.figure(figsize=(10,8))\n",
    "sns.heatmap(corr,\n",
    "            xticklabels=corr.columns.values,\n",
    "            yticklabels=corr.columns.values, annot=True)"
   ]
  },
  {
   "cell_type": "markdown",
   "metadata": {},
   "source": [
    "Reading:\n",
    "https://towardsdatascience.com/understanding-binary-cross-entropy-log-loss-a-visual-explanation-a3ac6025181a\n",
    "Reading:\n",
    "https://datascience.stackexchange.com/questions/19186/can-training-label-confidence-be-used-to-improve-prediction-accuracy\n",
    "\n",
    "\n",
    "\n",
    "All features show a negative correlation with P1healthy. (healthy)\n",
    "\n",
    "p0: probability that the label is 0.\n",
    "\n",
    "p1: probability that the label is 1.\n",
    "\n",
    "Thus they have a positive correlation with an unhealthy comment. \n",
    "\n",
    "# Hypothesis\n",
    "### Cross entropy as a loss function\n",
    "My prediction is that a model trained using a log loss function will give the best results as we are dealing with probabibilistic confidence scores. The penalty is logarithmic, offering a small score for small differences (0.1 or 0.2) and much bigger score for a large difference (e.g. 0.9 or 1.0). The loss function for logistic regression is the log loss.  Therefore I predict the logistic regression to give a good prediction as it gives a higher penalty when the probability is off. \n",
    "\n",
    "Reading:\n",
    "https://machinelearningmastery.com/how-to-score-probability-predictions-in-python/\n",
    "\n",
    "\n"
   ]
  },
  {
   "cell_type": "markdown",
   "metadata": {},
   "source": [
    "## Creating Pipelines"
   ]
  },
  {
   "cell_type": "code",
   "execution_count": 138,
   "metadata": {},
   "outputs": [],
   "source": [
    "#importing packages\n",
    "import pandas as pd\n",
    "from sklearn.model_selection import train_test_split\n",
    "from sklearn.preprocessing import MinMaxScaler\n",
    "from sklearn.decomposition import PCA\n",
    "from sklearn.pipeline import Pipeline\n",
    "from sklearn.linear_model import LogisticRegression\n",
    "from sklearn.tree import DecisionTreeClassifier\n",
    "from sklearn.ensemble import RandomForestClassifier"
   ]
  },
  {
   "cell_type": "code",
   "execution_count": 139,
   "metadata": {},
   "outputs": [],
   "source": [
    "#Decision tree pipeline\n",
    "DecisionTreePipeline = Pipeline([ ('mypca',PCA(n_components=7)),\n",
    "                     ('decisiontree_classifier',DecisionTreeClassifier())])"
   ]
  },
  {
   "cell_type": "code",
   "execution_count": 140,
   "metadata": {},
   "outputs": [],
   "source": [
    "#RandomForest pipeline\n",
    "RandomForestPipeline = Pipeline([ ('mypca',PCA(n_components=7)),\n",
    "                     ('randomforest_classifier',RandomForestClassifier())])"
   ]
  },
  {
   "cell_type": "code",
   "execution_count": 141,
   "metadata": {},
   "outputs": [],
   "source": [
    "#Logistic regression pipeline\n",
    "LogisticregPipeline = Pipeline([ ('mypca',PCA(n_components=7)),\n",
    "                     ('logisticreg_classifier',LogisticRegression())]) "
   ]
  },
  {
   "cell_type": "code",
   "execution_count": 142,
   "metadata": {},
   "outputs": [],
   "source": [
    "from sklearn.linear_model import SGDClassifier\n",
    "#SGDClassifier pipeline\n",
    "SGDclassifierpipeline = Pipeline([ ('mypca',PCA(n_components=7)),\n",
    "                     ('sgd_classifier',SGDClassifier())]) "
   ]
  },
  {
   "cell_type": "code",
   "execution_count": 143,
   "metadata": {},
   "outputs": [],
   "source": [
    "from sklearn.neural_network import MLPClassifier\n",
    "\n",
    "# Neural network classifier pipeline\n",
    "MLPclassifierpipeline = Pipeline([ ('mypca',PCA(n_components=7)),\n",
    "                     ('MLP_classifier',MLPClassifier())])\n",
    "\n"
   ]
  },
  {
   "cell_type": "code",
   "execution_count": 144,
   "metadata": {},
   "outputs": [],
   "source": [
    "from sklearn.svm import LinearSVC\n",
    "#Support Vector Machine classifier pipeline\n",
    "SVMclassifierpipeline = Pipeline([ ('mypca',PCA(n_components=7)),\n",
    "                     ('SVM_classifier',LinearSVC())])\n"
   ]
  },
  {
   "cell_type": "code",
   "execution_count": 505,
   "metadata": {},
   "outputs": [],
   "source": [
    "## Defining the pipelines in a list\n",
    "mypipeline = [LogisticregPipeline, DecisionTreePipeline, RandomForestPipeline, SGDclassifierpipeline, MLPclassifierpipeline, SVMclassifierpipeline]"
   ]
  },
  {
   "cell_type": "code",
   "execution_count": 146,
   "metadata": {},
   "outputs": [],
   "source": [
    "#Defining variables for choosing best model\n",
    "accuracy=0.0\n",
    "classifier=0\n",
    "pipeline=\"\""
   ]
  },
  {
   "cell_type": "code",
   "execution_count": 506,
   "metadata": {},
   "outputs": [],
   "source": [
    "# Creating dictionary of pipelines and training models\n",
    "PipelineDict = {0: 'Logistic Regression', 1: 'Decision Tree', 2: 'Random Forest', 3: 'SGDclassifier', 4: 'Neural Network', 5: 'SVM'}\n",
    "\n",
    "# Fit the pipelines\n",
    "for mypipe in mypipeline:\n",
    "    mypipe.fit(x_train, y_train)"
   ]
  },
  {
   "cell_type": "code",
   "execution_count": 507,
   "metadata": {},
   "outputs": [
    {
     "name": "stdout",
     "output_type": "stream",
     "text": [
      "Logistic Regression Test Accuracy: 0.9265536723163842\n",
      "Decision Tree Test Accuracy: 0.903728813559322\n",
      "Random Forest Test Accuracy: 0.9290395480225989\n",
      "SGDclassifier Test Accuracy: 0.927683615819209\n",
      "Neural Network Test Accuracy: 0.9310734463276836\n",
      "SVM Test Accuracy: 0.9290395480225989\n"
     ]
    }
   ],
   "source": [
    "#getting test accuracy for all classifiers\n",
    "for i,model in enumerate(mypipeline):\n",
    "    print(\"{} Test Accuracy: {}\".format(PipelineDict[i],model.score(x_test,y_test)))"
   ]
  },
  {
   "cell_type": "code",
   "execution_count": 149,
   "metadata": {},
   "outputs": [
    {
     "name": "stdout",
     "output_type": "stream",
     "text": [
      "Classifier with best accuracy:Neural Network\n"
     ]
    }
   ],
   "source": [
    "#Choosing best model for the given data\n",
    "for i,model in enumerate(mypipeline):\n",
    "    if model.score(x_test,y_test)>accuracy:\n",
    "        accuracy=model.score(x_test,y_test)\n",
    "        pipeline=model\n",
    "        classifier=i\n",
    "print('Classifier with best accuracy:{}'.format(PipelineDict[classifier]))"
   ]
  },
  {
   "cell_type": "markdown",
   "metadata": {},
   "source": [
    "We are getting pretty good accuracy scores, but this is misleading. The data set is unbalanced because the number of healthy and unhealthy comments are unbalanced. If most of our comments are healthy (e.g. 90%) and we are classifying all as healthy, we could still get a good accuracy score. The problem is that we are looking for the minority class (unhealthy comments). I therefore need to use a different score that looks at the confusion matrix and takes precision and recall into consideration. \n",
    "\n",
    "We can see that this is a highly inbalanced dataset, where in most cases the comment is healthy. We are tyring to detect unhealthy comments, so we could end up with a bad model with high accuracy. I will therefore use the F1 score instead of accuracy to measure the performance of my model. The F1 macro score will be even better as it considers the minority class. (unhealthy comments we try to detect)\n",
    "\n",
    "https://machinelearningmastery.com/tactics-to-combat-imbalanced-classes-in-your-machine-learning-dataset/\n",
    "\n",
    "'Confusion Matrix: A breakdown of predictions into a table showing correct predictions (the diagonal) and the types of incorrect predictions made (what classes incorrect predictions were assigned).\n",
    "\n",
    "Precision: A measure of a classifiers exactness.\n",
    "\n",
    "Recall: A measure of a classifiers completeness\n",
    "\n",
    "F1 Score (or F-score): A weighted average of precision and recall.\n",
    "\n",
    "ROC Curves: Like precision and recall, accuracy is divided into sensitivity and specificity and models can be chosen based on the balance thresholds of these values.\"\n"
   ]
  },
  {
   "cell_type": "code",
   "execution_count": 150,
   "metadata": {},
   "outputs": [
    {
     "data": {
      "text/plain": [
       "39930"
      ]
     },
     "execution_count": 150,
     "metadata": {},
     "output_type": "execute_result"
    }
   ],
   "source": [
    "len(y_train)"
   ]
  },
  {
   "cell_type": "code",
   "execution_count": 151,
   "metadata": {},
   "outputs": [
    {
     "data": {
      "text/plain": [
       "36939"
      ]
     },
     "execution_count": 151,
     "metadata": {},
     "output_type": "execute_result"
    }
   ],
   "source": [
    "len(y_train[y_train == 1])"
   ]
  },
  {
   "cell_type": "code",
   "execution_count": 152,
   "metadata": {},
   "outputs": [
    {
     "data": {
      "text/plain": [
       "2991"
      ]
     },
     "execution_count": 152,
     "metadata": {},
     "output_type": "execute_result"
    }
   ],
   "source": [
    "len(y_train[y_train ==0])"
   ]
  },
  {
   "cell_type": "code",
   "execution_count": 153,
   "metadata": {},
   "outputs": [
    {
     "data": {
      "text/plain": [
       "4425"
      ]
     },
     "execution_count": 153,
     "metadata": {},
     "output_type": "execute_result"
    }
   ],
   "source": [
    "len(y_test)"
   ]
  },
  {
   "cell_type": "code",
   "execution_count": 154,
   "metadata": {},
   "outputs": [
    {
     "data": {
      "text/plain": [
       "4105"
      ]
     },
     "execution_count": 154,
     "metadata": {},
     "output_type": "execute_result"
    }
   ],
   "source": [
    "len(y_test[y_test ==1])"
   ]
  },
  {
   "cell_type": "code",
   "execution_count": 155,
   "metadata": {},
   "outputs": [
    {
     "data": {
      "text/plain": [
       "320"
      ]
     },
     "execution_count": 155,
     "metadata": {},
     "output_type": "execute_result"
    }
   ],
   "source": [
    "len(y_test[y_test ==0])"
   ]
  },
  {
   "cell_type": "markdown",
   "metadata": {},
   "source": [
    "## 1. 4 Random Oversampling Imbalanced dataset\n",
    "In addition, for imbalanced classification there are two main approaches to random resampling; they are oversampling and undersampling. Random Oversampling: Randomly duplicate examples in the minority class."
   ]
  },
  {
   "cell_type": "code",
   "execution_count": 582,
   "metadata": {},
   "outputs": [
    {
     "name": "stdout",
     "output_type": "stream",
     "text": [
      "Counter({1: 36939, 0: 2991})\n",
      "Counter({1: 36939, 0: 18469})\n",
      "Logistic Regression f1 score (oversampling): 0.9279796048438496\n",
      "Logistic Regression f1 macro (oversampling): 0.6828952750587407\n",
      "[[ 220  100]\n",
      " [ 465 3640]]\n",
      "Decision Tree f1 score (oversampling): 0.9518248175182481\n",
      "Decision Tree f1 macro (oversampling): 0.6616266944734097\n",
      "[[ 117  203]\n",
      " [ 193 3912]]\n",
      "Random Forest f1 score (oversampling): 0.9533918984870668\n",
      "Random Forest f1 macro (oversampling): 0.6846470195799249\n",
      "[[ 136  184]\n",
      " [ 198 3907]]\n",
      "SGDclassifier f1 score (oversampling): 0.9189328521716715\n",
      "SGDclassifier f1 macro (oversampling): 0.671198781722866\n",
      "[[ 231   89]\n",
      " [ 540 3565]]\n",
      "Neural Network f1 score (oversampling): 0.9313074565883555\n",
      "Neural Network f1 macro (oversampling): 0.70141011336294\n",
      "[[ 240   80]\n",
      " [ 458 3647]]\n",
      "SVM f1 score (oversampling): 0.9273329933707293\n",
      "SVM f1 macro (oversampling): 0.6803662978782076\n",
      "[[ 218  102]\n",
      " [ 468 3637]]\n"
     ]
    }
   ],
   "source": [
    "#Oversampling for each model \n",
    "\n",
    "import imblearn as imb\n",
    "from imblearn.over_sampling import RandomOverSampler\n",
    "from collections import Counter\n",
    "from sklearn.metrics import accuracy_score, mean_squared_error, f1_score\n",
    "\n",
    "\n",
    "# define oversampling strategy\n",
    "oversample = RandomOverSampler(sampling_strategy=0.5)\n",
    "# fit and apply the transform\n",
    "x_over, y_over = oversample.fit_resample(x_train, y_train)\n",
    "\n",
    "# summarize class distribution\n",
    "print(Counter(y_train))\n",
    "print(Counter(y_over))\n",
    "\n",
    "for i,mypipe in enumerate(mypipeline):\n",
    "    mypipe.fit(x_over,y_over)\n",
    "    y_pred = mypipe.predict(x_test)\n",
    "    print(f\"{PipelineDict[i]} f1 score (oversampling): {f1_score(y_test, y_pred)}\")\n",
    "    print(f\"{PipelineDict[i]} f1 macro (oversampling): {f1_score(y_test, y_pred, average = 'macro')}\")\n",
    "    print(confusion_matrix(y_test, y_pred))"
   ]
  },
  {
   "cell_type": "markdown",
   "metadata": {},
   "source": [
    "This added the amount of 50% of the majority class (of random duplicated of the minority class) to the minority class. "
   ]
  },
  {
   "cell_type": "markdown",
   "metadata": {},
   "source": [
    "## 1.5 Random undersampling for Imbalanced Dataset\n",
    "Random Undersampling: Randomly delete examples in the majority class. As we are reducing the size of the dataset this could have a negative effect because there will be less data to train with. In undersampling we are losing data, so i predict that the model will work better using oversampling. \n",
    "\n",
    "My predication was correct, the f1 score is even worse with undersampling! As you can see below, oversampling does indeed score better than undersampling."
   ]
  },
  {
   "cell_type": "code",
   "execution_count": 583,
   "metadata": {},
   "outputs": [
    {
     "name": "stdout",
     "output_type": "stream",
     "text": [
      "Counter({1: 36939, 0: 2991})\n",
      "Counter({0: 2991, 1: 2991})\n",
      "Logistic Regression f1 score (undersampling): 0.8249857712009107\n",
      "Logistic Regression f1 macro (undersampling): 0.574951722043924\n",
      "[[ 296   24]\n",
      " [1206 2899]]\n",
      "Decision Tree f1 score (undersampling): 0.7690469076785181\n",
      "Decision Tree f1 macro (undersampling): 0.525989131019222\n",
      "[[ 305   15]\n",
      " [1531 2574]]\n",
      "Random Forest f1 score (undersampling): 0.7686790197250449\n",
      "Random Forest f1 macro (undersampling): 0.5256740789079348\n",
      "[[ 305   15]\n",
      " [1533 2572]]\n",
      "SGDclassifier f1 score (undersampling): 0.7856195668189185\n",
      "SGDclassifier f1 macro (undersampling): 0.5401679995994738\n",
      "[[ 304   16]\n",
      " [1439 2666]]\n",
      "Neural Network f1 score (undersampling): 0.7694145758661888\n",
      "Neural Network f1 macro (undersampling): 0.5263043167167527\n",
      "[[ 305   15]\n",
      " [1529 2576]]\n",
      "SVM f1 score (undersampling): 0.7848511641615089\n",
      "SVM f1 macro (undersampling): 0.5387434115381188\n",
      "[[ 302   18]\n",
      " [1442 2663]]\n"
     ]
    }
   ],
   "source": [
    "#Undersampling for each model \n",
    "from imblearn.under_sampling import NearMiss\n",
    "\n",
    "#define undersampling strategy\n",
    "nm = NearMiss()\n",
    "#fit and apply the transform\n",
    "x_under, y_under = nm.fit_sample(x_train, y_train)\n",
    "\n",
    "# summarize class distribution\n",
    "print(Counter(y_train))\n",
    "print(Counter(y_under))\n",
    "\n",
    "for i,mypipe in enumerate(mypipeline):\n",
    "    mypipe.fit(x_under,y_under)\n",
    "    y_pred = mypipe.predict(x_test)\n",
    "    print(f\"{PipelineDict[i]} f1 score (undersampling): {f1_score(y_test, y_pred)}\")\n",
    "    print(f\"{PipelineDict[i]} f1 macro (undersampling): {f1_score(y_test, y_pred, average = 'macro')}\")\n",
    "    print(confusion_matrix(y_test, y_pred))"
   ]
  },
  {
   "cell_type": "markdown",
   "metadata": {},
   "source": [
    "## 1.6 Combining Oversampling and Undersampling"
   ]
  },
  {
   "cell_type": "code",
   "execution_count": 584,
   "metadata": {},
   "outputs": [
    {
     "name": "stdout",
     "output_type": "stream",
     "text": [
      "Counter({1: 36939, 0: 2991})\n",
      "Counter({1: 36938, 0: 18469})\n",
      "Logistic Regression f1 score (combination): 0.9275325338096453\n",
      "Logistic Regression f1 macro (combination): 0.683133855837629\n",
      "[[ 222   98]\n",
      " [ 470 3635]]\n",
      "Decision Tree f1 score (combination): 0.9481499513145083\n",
      "Decision Tree f1 macro (combination): 0.6381128305468441\n",
      "[[ 104  216]\n",
      " [ 210 3895]]\n",
      "Random Forest f1 score (combination): 0.9537037037037037\n",
      "Random Forest f1 macro (combination): 0.680901696088612\n",
      "[[ 131  189]\n",
      " [ 191 3914]]\n",
      "SGDclassifier f1 score (combination): 0.9141597510373443\n",
      "SGDclassifier f1 macro (combination): 0.6662187155889709\n",
      "[[ 238   82]\n",
      " [ 580 3525]]\n",
      "Neural Network f1 score (combination): 0.9286171985133922\n",
      "Neural Network f1 macro (combination): 0.6983105094763714\n",
      "[[ 245   75]\n",
      " [ 482 3623]]\n",
      "SVM f1 score (combination): 0.9269662921348315\n",
      "SVM f1 macro (combination): 0.6825401205271407\n",
      "[[ 223   97]\n",
      " [ 475 3630]]\n"
     ]
    }
   ],
   "source": [
    "from imblearn.over_sampling import RandomOverSampler\n",
    "from imblearn.under_sampling import RandomUnderSampler\n",
    "\n",
    "# define oversampling strategy\n",
    "over = RandomOverSampler(sampling_strategy=0.5)\n",
    "# fit and apply the transform\n",
    "x, y = over.fit_resample(x_train, y_train)\n",
    "# define undersampling strategy\n",
    "under = RandomUnderSampler(sampling_strategy=0.5)\n",
    "# fit and apply the transform\n",
    "x_cb, y_cb = under.fit_resample(x, y)\n",
    "\n",
    "print(Counter(y_train))\n",
    "print(Counter(y_cb))\n",
    "\n",
    "for i,mypipe in enumerate(mypipeline):\n",
    "    mypipe.fit(x_cb,y_cb)\n",
    "    y_pred = mypipe.predict(x_test)\n",
    "    print(f\"{PipelineDict[i]} f1 score (combination): {f1_score(y_test, y_pred)}\")\n",
    "    print(f\"{PipelineDict[i]} f1 macro (combination): {f1_score(y_test, y_pred, average = 'macro')}\")\n",
    "    print(confusion_matrix(y_test, y_pred))\n",
    "    "
   ]
  },
  {
   "cell_type": "markdown",
   "metadata": {},
   "source": [
    " With these methods you show the wrong proportions of the two classes to the classifier during the training. I tried oversampling and undersampling and a combination of both, but this did not get significantly better results compared just using the training set. I hoped that the oversampling would increase the impact of minority class on cost function. Another approach to this would be using class weights to give class 0 (unhealthy) more importance. "
   ]
  },
  {
   "cell_type": "markdown",
   "metadata": {},
   "source": [
    "Source: https://machinelearningmastery.com/tactics-to-combat-imbalanced-classes-in-your-machine-learning-dataset/\n",
    "\n",
    "Source: https://towardsdatascience.com/handling-imbalanced-datasets-in-machine-learning-7a0e84220f28"
   ]
  },
  {
   "cell_type": "markdown",
   "metadata": {},
   "source": [
    "# 2. Evaluation of Models\n",
    "## 2.1 F1 score for each classifier"
   ]
  },
  {
   "cell_type": "code",
   "execution_count": 588,
   "metadata": {},
   "outputs": [
    {
     "name": "stdout",
     "output_type": "stream",
     "text": [
      "Logistic Regression f1 score: 0.9612125551975177\n",
      "Logistic Regression f1 macro: 0.6355956618875062\n",
      "[[  73  247]\n",
      " [  78 4027]]\n",
      "Decision Tree f1 score: 0.9487148251918627\n",
      "Decision Tree f1 macro: 0.6459642768705023\n",
      "[[ 110  210]\n",
      " [ 211 3894]]\n",
      "Random Forest f1 score: 0.96045197740113\n",
      "Random Forest f1 macro: 0.6704331450094162\n",
      "[[ 101  219]\n",
      " [ 110 3995]]\n",
      "SGDclassifier f1 score: 0.962485345838218\n",
      "SGDclassifier f1 macro: 0.481242672919109\n",
      "[[   0  320]\n",
      " [   0 4105]]\n",
      "Neural Network f1 score: 0.9634218992017157\n",
      "Neural Network f1 macro: 0.6458247351588448\n",
      "[[  75  245]\n",
      " [  62 4043]]\n",
      "SVM f1 score: 0.9630848812602869\n",
      "SVM f1 macro: 0.5251470917929342\n",
      "[[  15  305]\n",
      " [   9 4096]]\n"
     ]
    }
   ],
   "source": [
    "#getting f1 scores for all classifiers\n",
    "for i,model in enumerate(mypipeline):\n",
    "    model.fit(x_train,y_train)\n",
    "    y_pred = model.predict(x_test)\n",
    "    print(f\"{PipelineDict[i]} f1 score: {f1_score(y_test, y_pred)}\")\n",
    "    print(f\"{PipelineDict[i]} f1 macro: {f1_score(y_test, y_pred, average = 'macro')}\")\n",
    "    print(confusion_matrix(y_test, y_pred))"
   ]
  },
  {
   "cell_type": "markdown",
   "metadata": {},
   "source": [
    "## 2.2  F1 score using sample weights\n",
    "I want use the confidence score as a sample_weight for each binary value in the y_train. If people give a 0.51 score for healthy, that means something differnt than a 0.9 score for example. In this way you can make the output with higher confidence scores weigh more."
   ]
  },
  {
   "cell_type": "markdown",
   "metadata": {},
   "source": [
    "As you can see I used sample weights for fitting and scoring. The f1 score improved for each classifier. However, the F1 score can be misleading, from the confusion matrix we can see that eventhough the SGD gives a high F1 score, it is negatively biased. Since we try to detect unhealthy comments this is not useful, as it is the unhealthy comments (minority class) that we are looking for."
   ]
  },
  {
   "cell_type": "code",
   "execution_count": 591,
   "metadata": {},
   "outputs": [
    {
     "name": "stdout",
     "output_type": "stream",
     "text": [
      "Logistic Regression f1 score: 0.942838421367013\n",
      "Logistic Regression f1 macro: 0.6820422414879583\n",
      "[[ 220  100]\n",
      " [ 465 3640]]\n",
      "Decision Tree f1 score: 0.9638431651388342\n",
      "Decision Tree f1 macro: 0.6743921364820071\n",
      "[[ 120  200]\n",
      " [ 185 3920]]\n",
      "Random Forest f1 score: 0.9639355661361972\n",
      "Random Forest f1 macro: 0.6887533340712815\n",
      "[[ 137  183]\n",
      " [ 200 3905]]\n",
      "SGDclassifier f1 score: 0.9399221854965334\n",
      "SGDclassifier f1 macro: 0.6762186480976564\n",
      "[[ 222   98]\n",
      " [ 492 3613]]\n",
      "Neural Network f1 score: 0.9386024980210929\n",
      "Neural Network f1 macro: 0.6882700115214213\n",
      "[[ 248   72]\n",
      " [ 529 3576]]\n",
      "SVM f1 score: 0.9423948956622467\n",
      "SVM f1 macro: 0.6799751247094495\n",
      "[[ 218  102]\n",
      " [ 468 3637]]\n"
     ]
    }
   ],
   "source": [
    "# import warnings filter\n",
    "from warnings import simplefilter\n",
    "from sklearn.metrics import f1_score\n",
    "# ignore all future warnings\n",
    "simplefilter(action='ignore', category=FutureWarning)\n",
    "\n",
    "PipelineDict = {0: 'Logistic Regression', 1: 'Decision Tree', 2: 'Random Forest', 3: 'SGDclassifier', 4: 'Neural Network', 5: 'SVM'}\n",
    "#getting f1 scores for all classifiers\n",
    "for i,model in enumerate(mypipeline):\n",
    "    model.fit(x_over,y_over)     \n",
    "    y_pred = model.predict(x_test)\n",
    "    print(f\"{PipelineDict[i]} f1 score: {f1_score(y_test, y_pred,sample_weight= ytest_sampleweight)}\")\n",
    "    print(f\"{PipelineDict[i]} f1 macro: {f1_score(y_test, y_pred,sample_weight= ytest_sampleweight, average = 'macro')}\")\n",
    "    print(confusion_matrix(y_test, y_pred))\n",
    "    "
   ]
  },
  {
   "cell_type": "code",
   "execution_count": 595,
   "metadata": {},
   "outputs": [],
   "source": [
    "# I will plot the ROC curve of the three best models below\n",
    "#The models are trained on oversampled data\n",
    "mlpmodel = MLPclassifierpipeline.fit(x_over,y_over)\n",
    "svmmodel = SVMclassifierpipeline.fit(x_train,y_train)\n",
    "rfmodel = RandomForestPipeline.fit(x_train,y_train)"
   ]
  },
  {
   "cell_type": "markdown",
   "metadata": {},
   "source": [
    "# 3. Hyperparameter tuning\n",
    "I will focus on the top 3 best scoring models, namely the the Decision Tree, Random Forest Classifier,and Logistic regression.  \n",
    "## 3.1 Random Forest Classifier\n",
    "https://towardsdatascience.com/optimizing-hyperparameters-in-random-forest-classification-ec7741f9d3f6Hyperparameter \n",
    "\n",
    "As the source says, hyperparameter tuning can be useful. But for the random forest classifier, it might not be necessary as it is already good at classification. Using a gridsearch can take a lot of time and not show significant changes in  results. This is true here as the best model from the Gridsearch actually performs worse than the model in 2.1. I suspect that this is due to the fact that in 2.1 I used PCA (in the pipeline), which I could not do here.\n",
    "\n",
    "I used F1 micro for scoring in the gridsearch because of the class inbalance.  As the training data is skewed towards the healthy class (there are more comments that are healthy) and micro shows how the classifier is working in the case of class inbalance."
   ]
  },
  {
   "cell_type": "code",
   "execution_count": 589,
   "metadata": {},
   "outputs": [
    {
     "name": "stdout",
     "output_type": "stream",
     "text": [
      "Fitting 5 folds for each of 8 candidates, totalling 40 fits\n"
     ]
    },
    {
     "name": "stderr",
     "output_type": "stream",
     "text": [
      "[Parallel(n_jobs=1)]: Using backend SequentialBackend with 1 concurrent workers.\n",
      "[Parallel(n_jobs=1)]: Done  40 out of  40 | elapsed:  2.3min finished\n"
     ]
    },
    {
     "data": {
      "text/plain": [
       "GridSearchCV(cv=5,\n",
       "             estimator=RandomForestClassifier(criterion='entropy',\n",
       "                                              max_features='sqrt',\n",
       "                                              n_estimators=200),\n",
       "             param_grid={'criterion': ['gini', 'entropy'],\n",
       "                         'max_features': ['auto', 'sqrt'],\n",
       "                         'n_estimators': [100, 200]},\n",
       "             scoring='f1_macro', verbose=1)"
      ]
     },
     "execution_count": 589,
     "metadata": {},
     "output_type": "execute_result"
    }
   ],
   "source": [
    "from sklearn.model_selection import GridSearchCV\n",
    "\n",
    "param_grid = { \n",
    "    'n_estimators': [100, 200],\n",
    "    'max_features': ['auto', 'sqrt', ],\n",
    "    'criterion' :['gini', 'entropy']\n",
    "}\n",
    "CV_rfc = GridSearchCV(estimator=rnd_clf, param_grid=param_grid, cv= 5, verbose = 1, scoring='f1_macro')\n",
    "CV_rfc.fit(x_train, y_train,sample_weight= ytrain_sampleweight)\n"
   ]
  },
  {
   "cell_type": "code",
   "execution_count": 590,
   "metadata": {
    "scrolled": true
   },
   "outputs": [
    {
     "data": {
      "text/plain": [
       "{'criterion': 'entropy', 'max_features': 'auto', 'n_estimators': 100}"
      ]
     },
     "execution_count": 590,
     "metadata": {},
     "output_type": "execute_result"
    }
   ],
   "source": [
    "CV_rfc.best_params_"
   ]
  },
  {
   "cell_type": "code",
   "execution_count": 336,
   "metadata": {},
   "outputs": [],
   "source": [
    "best_forest = RandomForestClassifier(criterion = 'entropy', max_features ='sqrt', n_estimators = 100)"
   ]
  },
  {
   "cell_type": "code",
   "execution_count": 603,
   "metadata": {},
   "outputs": [
    {
     "name": "stdout",
     "output_type": "stream",
     "text": [
      "f1 score with sample weights: 0.9707778109448993\n",
      "f1 macro with sample weights: 0.6715456697866516\n"
     ]
    },
    {
     "data": {
      "text/plain": [
       "array([[  93,  227],\n",
       "       [  93, 4012]])"
      ]
     },
     "execution_count": 603,
     "metadata": {},
     "output_type": "execute_result"
    }
   ],
   "source": [
    "# Confusion matrix for Gridsearch with optimized hyperparameters\n",
    "grid_forest = best_forest.fit(x_train,y_train, sample_weight= ytrain_sampleweight)\n",
    "y_pred = best_forest.predict(x_test)\n",
    "print(f\"f1 score with sample weights: {f1_score(y_test, y_pred,sample_weight= ytest_sampleweight)}\")\n",
    "print(f\"f1 macro with sample weights: {f1_score(y_test, y_pred,sample_weight= ytest_sampleweight, average = 'macro')}\")\n",
    "confusion_matrix(y_test, y_pred)"
   ]
  },
  {
   "cell_type": "markdown",
   "metadata": {},
   "source": [
    "## 3.2 Logistic Regression"
   ]
  },
  {
   "cell_type": "code",
   "execution_count": 568,
   "metadata": {},
   "outputs": [
    {
     "name": "stderr",
     "output_type": "stream",
     "text": [
      "/Users/annelouisedeboer/opt/anaconda3/lib/python3.8/site-packages/sklearn/model_selection/_validation.py:548: FitFailedWarning: Estimator fit failed. The score on this train-test partition for these parameters will be set to nan. Details: \n",
      "Traceback (most recent call last):\n",
      "  File \"/Users/annelouisedeboer/opt/anaconda3/lib/python3.8/site-packages/sklearn/model_selection/_validation.py\", line 531, in _fit_and_score\n",
      "    estimator.fit(X_train, y_train, **fit_params)\n",
      "  File \"/Users/annelouisedeboer/opt/anaconda3/lib/python3.8/site-packages/sklearn/linear_model/_logistic.py\", line 1304, in fit\n",
      "    solver = _check_solver(self.solver, self.penalty, self.dual)\n",
      "  File \"/Users/annelouisedeboer/opt/anaconda3/lib/python3.8/site-packages/sklearn/linear_model/_logistic.py\", line 442, in _check_solver\n",
      "    raise ValueError(\"Solver %s supports only 'l2' or 'none' penalties, \"\n",
      "ValueError: Solver lbfgs supports only 'l2' or 'none' penalties, got l1 penalty.\n",
      "\n",
      "  warnings.warn(\"Estimator fit failed. The score on this train-test\"\n",
      "/Users/annelouisedeboer/opt/anaconda3/lib/python3.8/site-packages/sklearn/model_selection/_validation.py:548: FitFailedWarning: Estimator fit failed. The score on this train-test partition for these parameters will be set to nan. Details: \n",
      "Traceback (most recent call last):\n",
      "  File \"/Users/annelouisedeboer/opt/anaconda3/lib/python3.8/site-packages/sklearn/model_selection/_validation.py\", line 531, in _fit_and_score\n",
      "    estimator.fit(X_train, y_train, **fit_params)\n",
      "  File \"/Users/annelouisedeboer/opt/anaconda3/lib/python3.8/site-packages/sklearn/linear_model/_logistic.py\", line 1304, in fit\n",
      "    solver = _check_solver(self.solver, self.penalty, self.dual)\n",
      "  File \"/Users/annelouisedeboer/opt/anaconda3/lib/python3.8/site-packages/sklearn/linear_model/_logistic.py\", line 442, in _check_solver\n",
      "    raise ValueError(\"Solver %s supports only 'l2' or 'none' penalties, \"\n",
      "ValueError: Solver lbfgs supports only 'l2' or 'none' penalties, got l1 penalty.\n",
      "\n",
      "  warnings.warn(\"Estimator fit failed. The score on this train-test\"\n",
      "/Users/annelouisedeboer/opt/anaconda3/lib/python3.8/site-packages/sklearn/model_selection/_validation.py:548: FitFailedWarning: Estimator fit failed. The score on this train-test partition for these parameters will be set to nan. Details: \n",
      "Traceback (most recent call last):\n",
      "  File \"/Users/annelouisedeboer/opt/anaconda3/lib/python3.8/site-packages/sklearn/model_selection/_validation.py\", line 531, in _fit_and_score\n",
      "    estimator.fit(X_train, y_train, **fit_params)\n",
      "  File \"/Users/annelouisedeboer/opt/anaconda3/lib/python3.8/site-packages/sklearn/linear_model/_logistic.py\", line 1304, in fit\n",
      "    solver = _check_solver(self.solver, self.penalty, self.dual)\n",
      "  File \"/Users/annelouisedeboer/opt/anaconda3/lib/python3.8/site-packages/sklearn/linear_model/_logistic.py\", line 442, in _check_solver\n",
      "    raise ValueError(\"Solver %s supports only 'l2' or 'none' penalties, \"\n",
      "ValueError: Solver lbfgs supports only 'l2' or 'none' penalties, got l1 penalty.\n",
      "\n",
      "  warnings.warn(\"Estimator fit failed. The score on this train-test\"\n",
      "/Users/annelouisedeboer/opt/anaconda3/lib/python3.8/site-packages/sklearn/model_selection/_validation.py:548: FitFailedWarning: Estimator fit failed. The score on this train-test partition for these parameters will be set to nan. Details: \n",
      "Traceback (most recent call last):\n",
      "  File \"/Users/annelouisedeboer/opt/anaconda3/lib/python3.8/site-packages/sklearn/model_selection/_validation.py\", line 531, in _fit_and_score\n",
      "    estimator.fit(X_train, y_train, **fit_params)\n",
      "  File \"/Users/annelouisedeboer/opt/anaconda3/lib/python3.8/site-packages/sklearn/linear_model/_logistic.py\", line 1304, in fit\n",
      "    solver = _check_solver(self.solver, self.penalty, self.dual)\n",
      "  File \"/Users/annelouisedeboer/opt/anaconda3/lib/python3.8/site-packages/sklearn/linear_model/_logistic.py\", line 442, in _check_solver\n",
      "    raise ValueError(\"Solver %s supports only 'l2' or 'none' penalties, \"\n",
      "ValueError: Solver lbfgs supports only 'l2' or 'none' penalties, got l1 penalty.\n",
      "\n",
      "  warnings.warn(\"Estimator fit failed. The score on this train-test\"\n",
      "/Users/annelouisedeboer/opt/anaconda3/lib/python3.8/site-packages/sklearn/model_selection/_validation.py:548: FitFailedWarning: Estimator fit failed. The score on this train-test partition for these parameters will be set to nan. Details: \n",
      "Traceback (most recent call last):\n",
      "  File \"/Users/annelouisedeboer/opt/anaconda3/lib/python3.8/site-packages/sklearn/model_selection/_validation.py\", line 531, in _fit_and_score\n",
      "    estimator.fit(X_train, y_train, **fit_params)\n",
      "  File \"/Users/annelouisedeboer/opt/anaconda3/lib/python3.8/site-packages/sklearn/linear_model/_logistic.py\", line 1304, in fit\n",
      "    solver = _check_solver(self.solver, self.penalty, self.dual)\n",
      "  File \"/Users/annelouisedeboer/opt/anaconda3/lib/python3.8/site-packages/sklearn/linear_model/_logistic.py\", line 442, in _check_solver\n",
      "    raise ValueError(\"Solver %s supports only 'l2' or 'none' penalties, \"\n",
      "ValueError: Solver lbfgs supports only 'l2' or 'none' penalties, got l1 penalty.\n",
      "\n",
      "  warnings.warn(\"Estimator fit failed. The score on this train-test\"\n",
      "/Users/annelouisedeboer/opt/anaconda3/lib/python3.8/site-packages/sklearn/linear_model/_sag.py:329: ConvergenceWarning: The max_iter was reached which means the coef_ did not converge\n",
      "  warnings.warn(\"The max_iter was reached which means \"\n",
      "/Users/annelouisedeboer/opt/anaconda3/lib/python3.8/site-packages/sklearn/linear_model/_sag.py:329: ConvergenceWarning: The max_iter was reached which means the coef_ did not converge\n",
      "  warnings.warn(\"The max_iter was reached which means \"\n",
      "/Users/annelouisedeboer/opt/anaconda3/lib/python3.8/site-packages/sklearn/linear_model/_sag.py:329: ConvergenceWarning: The max_iter was reached which means the coef_ did not converge\n",
      "  warnings.warn(\"The max_iter was reached which means \"\n",
      "/Users/annelouisedeboer/opt/anaconda3/lib/python3.8/site-packages/sklearn/linear_model/_sag.py:329: ConvergenceWarning: The max_iter was reached which means the coef_ did not converge\n",
      "  warnings.warn(\"The max_iter was reached which means \"\n",
      "/Users/annelouisedeboer/opt/anaconda3/lib/python3.8/site-packages/sklearn/linear_model/_sag.py:329: ConvergenceWarning: The max_iter was reached which means the coef_ did not converge\n",
      "  warnings.warn(\"The max_iter was reached which means \"\n",
      "/Users/annelouisedeboer/opt/anaconda3/lib/python3.8/site-packages/sklearn/model_selection/_validation.py:548: FitFailedWarning: Estimator fit failed. The score on this train-test partition for these parameters will be set to nan. Details: \n",
      "Traceback (most recent call last):\n",
      "  File \"/Users/annelouisedeboer/opt/anaconda3/lib/python3.8/site-packages/sklearn/model_selection/_validation.py\", line 531, in _fit_and_score\n",
      "    estimator.fit(X_train, y_train, **fit_params)\n",
      "  File \"/Users/annelouisedeboer/opt/anaconda3/lib/python3.8/site-packages/sklearn/linear_model/_logistic.py\", line 1304, in fit\n",
      "    solver = _check_solver(self.solver, self.penalty, self.dual)\n",
      "  File \"/Users/annelouisedeboer/opt/anaconda3/lib/python3.8/site-packages/sklearn/linear_model/_logistic.py\", line 442, in _check_solver\n",
      "    raise ValueError(\"Solver %s supports only 'l2' or 'none' penalties, \"\n",
      "ValueError: Solver lbfgs supports only 'l2' or 'none' penalties, got l1 penalty.\n",
      "\n",
      "  warnings.warn(\"Estimator fit failed. The score on this train-test\"\n",
      "/Users/annelouisedeboer/opt/anaconda3/lib/python3.8/site-packages/sklearn/linear_model/_sag.py:329: ConvergenceWarning: The max_iter was reached which means the coef_ did not converge\n",
      "  warnings.warn(\"The max_iter was reached which means \"\n",
      "/Users/annelouisedeboer/opt/anaconda3/lib/python3.8/site-packages/sklearn/linear_model/_sag.py:329: ConvergenceWarning: The max_iter was reached which means the coef_ did not converge\n",
      "  warnings.warn(\"The max_iter was reached which means \"\n",
      "/Users/annelouisedeboer/opt/anaconda3/lib/python3.8/site-packages/sklearn/linear_model/_sag.py:329: ConvergenceWarning: The max_iter was reached which means the coef_ did not converge\n",
      "  warnings.warn(\"The max_iter was reached which means \"\n",
      "/Users/annelouisedeboer/opt/anaconda3/lib/python3.8/site-packages/sklearn/linear_model/_sag.py:329: ConvergenceWarning: The max_iter was reached which means the coef_ did not converge\n",
      "  warnings.warn(\"The max_iter was reached which means \"\n",
      "/Users/annelouisedeboer/opt/anaconda3/lib/python3.8/site-packages/sklearn/linear_model/_sag.py:329: ConvergenceWarning: The max_iter was reached which means the coef_ did not converge\n",
      "  warnings.warn(\"The max_iter was reached which means \"\n",
      "/Users/annelouisedeboer/opt/anaconda3/lib/python3.8/site-packages/sklearn/linear_model/_sag.py:329: ConvergenceWarning: The max_iter was reached which means the coef_ did not converge\n",
      "  warnings.warn(\"The max_iter was reached which means \"\n",
      "/Users/annelouisedeboer/opt/anaconda3/lib/python3.8/site-packages/sklearn/linear_model/_sag.py:329: ConvergenceWarning: The max_iter was reached which means the coef_ did not converge\n",
      "  warnings.warn(\"The max_iter was reached which means \"\n",
      "/Users/annelouisedeboer/opt/anaconda3/lib/python3.8/site-packages/sklearn/linear_model/_sag.py:329: ConvergenceWarning: The max_iter was reached which means the coef_ did not converge\n",
      "  warnings.warn(\"The max_iter was reached which means \"\n",
      "/Users/annelouisedeboer/opt/anaconda3/lib/python3.8/site-packages/sklearn/linear_model/_sag.py:329: ConvergenceWarning: The max_iter was reached which means the coef_ did not converge\n",
      "  warnings.warn(\"The max_iter was reached which means \"\n",
      "/Users/annelouisedeboer/opt/anaconda3/lib/python3.8/site-packages/sklearn/linear_model/_sag.py:329: ConvergenceWarning: The max_iter was reached which means the coef_ did not converge\n",
      "  warnings.warn(\"The max_iter was reached which means \"\n",
      "/Users/annelouisedeboer/opt/anaconda3/lib/python3.8/site-packages/sklearn/model_selection/_validation.py:548: FitFailedWarning: Estimator fit failed. The score on this train-test partition for these parameters will be set to nan. Details: \n",
      "Traceback (most recent call last):\n",
      "  File \"/Users/annelouisedeboer/opt/anaconda3/lib/python3.8/site-packages/sklearn/model_selection/_validation.py\", line 531, in _fit_and_score\n",
      "    estimator.fit(X_train, y_train, **fit_params)\n",
      "  File \"/Users/annelouisedeboer/opt/anaconda3/lib/python3.8/site-packages/sklearn/linear_model/_logistic.py\", line 1304, in fit\n",
      "    solver = _check_solver(self.solver, self.penalty, self.dual)\n",
      "  File \"/Users/annelouisedeboer/opt/anaconda3/lib/python3.8/site-packages/sklearn/linear_model/_logistic.py\", line 442, in _check_solver\n",
      "    raise ValueError(\"Solver %s supports only 'l2' or 'none' penalties, \"\n",
      "ValueError: Solver lbfgs supports only 'l2' or 'none' penalties, got l1 penalty.\n",
      "\n",
      "  warnings.warn(\"Estimator fit failed. The score on this train-test\"\n",
      "/Users/annelouisedeboer/opt/anaconda3/lib/python3.8/site-packages/sklearn/linear_model/_sag.py:329: ConvergenceWarning: The max_iter was reached which means the coef_ did not converge\n",
      "  warnings.warn(\"The max_iter was reached which means \"\n",
      "/Users/annelouisedeboer/opt/anaconda3/lib/python3.8/site-packages/sklearn/linear_model/_sag.py:329: ConvergenceWarning: The max_iter was reached which means the coef_ did not converge\n",
      "  warnings.warn(\"The max_iter was reached which means \"\n",
      "/Users/annelouisedeboer/opt/anaconda3/lib/python3.8/site-packages/sklearn/linear_model/_sag.py:329: ConvergenceWarning: The max_iter was reached which means the coef_ did not converge\n",
      "  warnings.warn(\"The max_iter was reached which means \"\n",
      "/Users/annelouisedeboer/opt/anaconda3/lib/python3.8/site-packages/sklearn/linear_model/_sag.py:329: ConvergenceWarning: The max_iter was reached which means the coef_ did not converge\n",
      "  warnings.warn(\"The max_iter was reached which means \"\n",
      "/Users/annelouisedeboer/opt/anaconda3/lib/python3.8/site-packages/sklearn/linear_model/_sag.py:329: ConvergenceWarning: The max_iter was reached which means the coef_ did not converge\n",
      "  warnings.warn(\"The max_iter was reached which means \"\n",
      "/Users/annelouisedeboer/opt/anaconda3/lib/python3.8/site-packages/sklearn/linear_model/_sag.py:329: ConvergenceWarning: The max_iter was reached which means the coef_ did not converge\n",
      "  warnings.warn(\"The max_iter was reached which means \"\n",
      "/Users/annelouisedeboer/opt/anaconda3/lib/python3.8/site-packages/sklearn/linear_model/_sag.py:329: ConvergenceWarning: The max_iter was reached which means the coef_ did not converge\n",
      "  warnings.warn(\"The max_iter was reached which means \"\n",
      "/Users/annelouisedeboer/opt/anaconda3/lib/python3.8/site-packages/sklearn/linear_model/_sag.py:329: ConvergenceWarning: The max_iter was reached which means the coef_ did not converge\n",
      "  warnings.warn(\"The max_iter was reached which means \"\n",
      "/Users/annelouisedeboer/opt/anaconda3/lib/python3.8/site-packages/sklearn/linear_model/_sag.py:329: ConvergenceWarning: The max_iter was reached which means the coef_ did not converge\n",
      "  warnings.warn(\"The max_iter was reached which means \"\n",
      "/Users/annelouisedeboer/opt/anaconda3/lib/python3.8/site-packages/sklearn/linear_model/_sag.py:329: ConvergenceWarning: The max_iter was reached which means the coef_ did not converge\n",
      "  warnings.warn(\"The max_iter was reached which means \"\n"
     ]
    },
    {
     "data": {
      "text/plain": [
       "GridSearchCV(estimator=LogisticRegression(), n_jobs=1,\n",
       "             param_grid={'C': [0.001, 0.01, 0.1, 1, 10, 100, 1000],\n",
       "                         'penalty': ['l1', 'l2'],\n",
       "                         'solver': ['liblinear', 'lbfgs', 'saga']},\n",
       "             scoring='f1_macro')"
      ]
     },
     "execution_count": 568,
     "metadata": {},
     "output_type": "execute_result"
    }
   ],
   "source": [
    "from sklearn.utils.testing import ignore_warnings\n",
    "from sklearn.exceptions import ConvergenceWarning\n",
    "\n",
    "\n",
    "## Logictic regression\n",
    "import numpy as np\n",
    "\n",
    "param_grid = {\n",
    "    'penalty':['l1', 'l2'],\n",
    "    'solver' : ['liblinear','lbfgs', 'saga'],\n",
    "    'C' : [0.001, 0.01, 0.1, 1, 10, 100, 1000] }\n",
    "LG_grid = GridSearchCV(estimator =LogisticRegression(), param_grid = param_grid, n_jobs=1, scoring='f1_macro')\n",
    "LG_grid.fit(x_train,y_train,sample_weight= ytrain_sampleweight)"
   ]
  },
  {
   "cell_type": "code",
   "execution_count": 574,
   "metadata": {},
   "outputs": [
    {
     "data": {
      "text/plain": [
       "{'C': 1, 'penalty': 'l2', 'solver': 'lbfgs'}"
      ]
     },
     "execution_count": 574,
     "metadata": {},
     "output_type": "execute_result"
    }
   ],
   "source": [
    "LG_grid.best_params_"
   ]
  },
  {
   "cell_type": "code",
   "execution_count": 610,
   "metadata": {},
   "outputs": [],
   "source": [
    "best_log = LogisticRegression(C = 1, penalty = 'l2', solver = 'lbfgs' )"
   ]
  },
  {
   "cell_type": "code",
   "execution_count": 577,
   "metadata": {},
   "outputs": [
    {
     "name": "stdout",
     "output_type": "stream",
     "text": [
      "f1 score : 0.9311798990427479\n",
      "f1 macro with sample weights: 0.6673131148030618\n"
     ]
    },
    {
     "data": {
      "text/plain": [
       "array([[ 242,   78],\n",
       "       [ 583, 3522]])"
      ]
     },
     "execution_count": 577,
     "metadata": {},
     "output_type": "execute_result"
    }
   ],
   "source": [
    "# Confusion matrix for Gridsearch optimized hyperparameters\n",
    "from sklearn.metrics import confusion_matrix\n",
    "best_log.fit(x_train,y_train,sample_weight= ytrain_sampleweight)\n",
    "y_pred = best_log.predict(x_test)\n",
    "print(f\"f1 score : {f1_score(y_test, y_pred,sample_weight= ytest_sampleweight)}\")\n",
    "print(f\"f1 macro with sample weights: {f1_score(y_test, y_pred,sample_weight= ytest_sampleweight, average = 'macro')}\")\n",
    "confusion_matrix(y_test, y_pred)"
   ]
  },
  {
   "cell_type": "markdown",
   "metadata": {},
   "source": [
    "The f1 score (macro) increased compared to the logistic regression before using gridsearch. \n",
    "At first I used the loss function F1_micro. This gridsearch created a very biased classifier. Later I realized that I should be using F1_macro, to look at the minority class. \n",
    "\n",
    "I will fit this tuned model to the resampled data. As you can see below, when the moddel is fitted to resampled data it has a better F1_macro score. We can also see that this model (3.2.1) is better than the pipeline used before (3.2.2). The model in 3.2.3 is trained and fitted using sample weights.\n"
   ]
  },
  {
   "cell_type": "markdown",
   "metadata": {},
   "source": [
    "\n",
    "## 3.2.1 Logistic regression with resampled data\n"
   ]
  },
  {
   "cell_type": "code",
   "execution_count": 611,
   "metadata": {},
   "outputs": [
    {
     "name": "stdout",
     "output_type": "stream",
     "text": [
      "f1 score with resampling (combination under/over sampling): 0.9424608006209825\n",
      "f1 macro with sample weights: 0.6822613470379696\n",
      "[[ 222   98]\n",
      " [ 470 3635]]\n"
     ]
    }
   ],
   "source": [
    "# Confusion matrix for Gridsearch optimized hyperparameters (resample data check)\n",
    "#combination of oversampling and undersampling\n",
    "from sklearn.metrics import confusion_matrix\n",
    "log_resample = best_log.fit(x_cb,y_cb)\n",
    "y_pred = best_log.predict(x_test)\n",
    "print(f\"f1 score with resampling (combination under/over sampling): {f1_score(y_test, y_pred,sample_weight= ytest_sampleweight)}\")\n",
    "print(f\"f1 macro with sample weights: {f1_score(y_test, y_pred,sample_weight= ytest_sampleweight, average = 'macro')}\")\n",
    "print(confusion_matrix(y_test, y_pred))\n"
   ]
  },
  {
   "cell_type": "markdown",
   "metadata": {},
   "source": [
    "## 3.2.2 Logistic regression with PCA"
   ]
  },
  {
   "cell_type": "code",
   "execution_count": 614,
   "metadata": {},
   "outputs": [
    {
     "name": "stdout",
     "output_type": "stream",
     "text": [
      "f1 macro with sample weights: 0.640179610613905\n"
     ]
    }
   ],
   "source": [
    "logpipe = LogisticregPipeline.fit(x_train,y_train)\n",
    "y_pred = logpipe.predict(x_test)\n",
    "print(f\"f1 macro with sample weights: {f1_score(y_test, y_pred,sample_weight= ytest_sampleweight, average = 'macro')}\")"
   ]
  },
  {
   "cell_type": "markdown",
   "metadata": {},
   "source": [
    "\n",
    "## 3.2.3 Logistic regression trained with weighted samples"
   ]
  },
  {
   "cell_type": "code",
   "execution_count": 615,
   "metadata": {},
   "outputs": [
    {
     "name": "stdout",
     "output_type": "stream",
     "text": [
      "f1 macro with sample weights: 0.6673131148030618\n"
     ]
    }
   ],
   "source": [
    "weightedlog = LogisticRegression().fit(x_train,y_train,sample_weight= ytrain_sampleweight)\n",
    "y_pred = weighinglog.predict(x_test)\n",
    "print(f\"f1 macro with sample weights: {f1_score(y_test, y_pred,sample_weight= ytest_sampleweight, average = 'macro')}\")\n"
   ]
  },
  {
   "cell_type": "markdown",
   "metadata": {},
   "source": [
    "# 4. Ensemble Method\n",
    "The random forest classifier is already an example of a bagging algorithm. "
   ]
  },
  {
   "cell_type": "markdown",
   "metadata": {},
   "source": [
    "## 4.1 Boosting\n",
    "\n",
    "- For boosting, base estimators are built sequentially to produce a more powerful ensemble. \n",
    "- For boosting you create a bag and compare the training predicted score with training actual score. You will get some false positive and some false negative, these are saved and added to another bag picked randomly. You train with the ones that you predicted wrong. Pass the false negatives and false positives to the next bag and train again. In this way you are reducing your error. In this way misclassified data increases its weights to emphasise the most difficult cases. \n",
    "\n",
    "Boosting is making some of the models more biased toward the negative values."
   ]
  },
  {
   "cell_type": "code",
   "execution_count": 624,
   "metadata": {},
   "outputs": [
    {
     "name": "stdout",
     "output_type": "stream",
     "text": [
      "f1 score with sample weights: 0.6857848978786656\n",
      "RF confusion matrix:[[  97  223]\n",
      " [  77 4028]]\n",
      "f1 score with sample weights: 0.676112505656302\n",
      "Decisiontree confusion matrix:[[ 118  202]\n",
      " [ 169 3936]]\n",
      "f1 score with sample weights: 0.4857122876619619\n",
      "SGDclassifier confusion matrix:[[   0  320]\n",
      " [   0 4105]]\n",
      "f1 score with sample weights: 0.4857122876619619\n",
      "SVM confusion matrix:[[   0  320]\n",
      " [   0 4105]]\n"
     ]
    }
   ],
   "source": [
    "#Boosting - Ada Boost\n",
    "from sklearn. ensemble import RandomForestClassifier, BaggingClassifier, AdaBoostClassifier, VotingClassifier\n",
    "\n",
    "\n",
    "## Defining the pipelines in a list\n",
    "boostmodels = [RandomForestClassifier(), DecisionTreeClassifier(), SGDClassifier(), LinearSVC(),] \n",
    "boostmodelDict = {0: 'RF', 1: 'Decisiontree',  2: 'SGDclassifier', 3: 'SVM'}  \n",
    "\n",
    "for i,mymodel in enumerate(boostmodels):  \n",
    "    #defining boosting classifier\n",
    "    adb = AdaBoostClassifier(mymodel, algorithm='SAMME')\n",
    "    adb.fit(x_train,y_train)\n",
    "    y_pred = adb.predict(x_test)\n",
    "    print(f\"f1 score with sample weights: {f1_score(y_test, y_pred,sample_weight= ytest_sampleweight, average = 'macro')}\")\n",
    "    print( f'{boostmodelDict[i]} confusion matrix:{confusion_matrix(y_test, y_pred)}') "
   ]
  },
  {
   "cell_type": "code",
   "execution_count": 449,
   "metadata": {},
   "outputs": [],
   "source": [
    "#I will plot the ROC curves for the boosted decision tree and random forest classifier below\n",
    "adb = AdaBoostClassifier(RandomForestClassifier(), algorithm='SAMME')\n",
    "boostedFR = adb.fit(x_train,y_train)\n",
    "\n",
    "adb = AdaBoostClassifier(DecisionTreeClassifier(), algorithm='SAMME')\n",
    "boostedDT = adb.fit(x_train,y_train)"
   ]
  },
  {
   "cell_type": "markdown",
   "metadata": {},
   "source": [
    "\n",
    "https://scikit-learn.org/stable/modules/ensemble.html\n",
    "\n",
    "## 4.2 Hard Voting\n",
    "I first tried hard voting, then I will see how it compares to soft voting. It could be better than the strongest individual classifier. For voting I will use the models that scored best with the sample weights. As you can see below, the Voting Classifier detects more true positives than the RandomForest classifier. "
   ]
  },
  {
   "cell_type": "code",
   "execution_count": 619,
   "metadata": {},
   "outputs": [
    {
     "name": "stdout",
     "output_type": "stream",
     "text": [
      " RandomForestClassifier confusion matrix:[[  89  231]\n",
      " [  89 4016]]\n",
      "f1 macro RandomForestClassifier: 0.6674468971053829\n",
      " DecisionTreeClassifier confusion matrix:[[ 110  210]\n",
      " [ 180 3925]]\n",
      "f1 macro DecisionTreeClassifier: 0.662802117804536\n",
      " LinearSVC confusion matrix:[[ 272   48]\n",
      " [ 901 3204]]\n",
      "f1 macro LinearSVC: 0.6163025649925539\n",
      " VotingClassifier confusion matrix:[[ 135  185]\n",
      " [ 188 3917]]\n",
      "f1 macro VotingClassifier: 0.6952472111363239\n"
     ]
    }
   ],
   "source": [
    "from sklearn.ensemble import RandomForestClassifier, VotingClassifier\n",
    "from sklearn.svm import SVC\n",
    "from sklearn.metrics import accuracy_score\n",
    "from sklearn.model_selection import train_test_split\n",
    "from sklearn.datasets import make_moons\n",
    "from sklearn.tree import DecisionTreeClassifier\n",
    "from sklearn.decomposition import PCA\n",
    "from sklearn.pipeline import Pipeline\n",
    "from sklearn.linear_model import LogisticRegression\n",
    "from sklearn.ensemble import RandomForestClassifier\n",
    "from sklearn.svm import LinearSVC\n",
    "\n",
    "models = [('RF', RandomForestClassifier()), ('Decisiontree', DecisionTreeClassifier()), ('SVM',LinearSVC())]\n",
    "\n",
    "#soft voting\n",
    "voting_clf = VotingClassifier(\n",
    "estimators= models,\n",
    "voting=\"hard\",\n",
    ")\n",
    "hardvoteclf = voting_clf.fit(x_train, y_train, sample_weight= ytrain_sampleweight)\n",
    "gmodels =  [RandomForestClassifier(), DecisionTreeClassifier(), LinearSVC(), voting_clf]\n",
    "for clf in gmodels:\n",
    "    clf.fit(x_train, y_train, sample_weight= ytrain_sampleweight)\n",
    "    y_pred = clf.predict(x_test)\n",
    "    print( f' {clf.__class__.__name__} confusion matrix:{confusion_matrix(y_test, y_pred)}')\n",
    "    print(f\"f1 macro {clf.__class__.__name__}: {f1_score(y_test, y_pred,sample_weight= ytest_sampleweight,average = 'macro')}\")"
   ]
  },
  {
   "cell_type": "markdown",
   "metadata": {},
   "source": [
    "## 4.3 Soft Voting"
   ]
  },
  {
   "cell_type": "code",
   "execution_count": 468,
   "metadata": {},
   "outputs": [],
   "source": [
    "#as the LinearSVC could not return a probability for soft voting, I tried changing the model. \n",
    "linclf= SVC(kernel='linear',probability=True)"
   ]
  },
  {
   "cell_type": "code",
   "execution_count": 621,
   "metadata": {},
   "outputs": [
    {
     "name": "stdout",
     "output_type": "stream",
     "text": [
      " RandomForestClassifier confusion matrix:[[  90  230]\n",
      " [  90 4015]]\n",
      "f1 macro RandomForestClassifier: 0.6690567094559048\n",
      " DecisionTreeClassifier confusion matrix:[[ 110  210]\n",
      " [ 180 3925]]\n",
      "f1 macro DecisionTreeClassifier: 0.6613786160399301\n",
      " LinearSVC confusion matrix:[[ 272   48]\n",
      " [ 901 3204]]\n",
      "f1 macro LinearSVC: 0.6163025649925539\n",
      " VotingClassifier confusion matrix:[[  72  248]\n",
      " [  77 4028]]\n",
      "f1 macro VotingClassifier: 0.6420139020207096\n"
     ]
    }
   ],
   "source": [
    "#soft voting\n",
    "\n",
    "models = [('RF', RandomForestClassifier()), ('Decisiontree', DecisionTreeClassifier()), ('SVM',linclf)] \n",
    "\n",
    "soft_voting_clf = VotingClassifier(\n",
    "    estimators= models,\n",
    "    voting=\"soft\")\n",
    "\n",
    "softvoteclf = soft_voting_clf.fit(x_train, y_train, sample_weight= ytrain_sampleweight)\n",
    "\n",
    "gmodels =  [RandomForestClassifier(), DecisionTreeClassifier(), LinearSVC(), soft_voting_clf]\n",
    "for clf in gmodels:\n",
    "    clf.fit(x_train, y_train, sample_weight= ytrain_sampleweight)\n",
    "    y_pred = clf.predict(x_test)\n",
    "    print( f' {clf.__class__.__name__} confusion matrix:{confusion_matrix(y_test, y_pred)}')\n",
    "    print(f\"f1 macro {clf.__class__.__name__}: {f1_score(y_test, y_pred,sample_weight= ytest_sampleweight,average = 'macro')}\")\n"
   ]
  },
  {
   "cell_type": "markdown",
   "metadata": {},
   "source": [
    "# Model Comparison\n",
    "\n",
    "## AUC and ROC\n",
    "Plot the ROC of every model and check which one has the highest AUC. AUC / ROC will do this automatically using a threshold. Whichever has most points closer to 1 is the best one. \n",
    " \n",
    "for this example .. and .. are more stable than the other methods.\n",
    "\n",
    "Each value for the threshold gives a point (false positive, true positive). The ROC curve describes the ensemble of points creted when T varies from 1 to 0. A good model will have a curve that increases quickly from 0 to 1 (this means that little precision has to be sacrificed to get a high recall).\n",
    "\n",
    "https://quantdev.ssri.psu.edu/sites/qdev/files/09_EnsembleMethods_2017_1127.html"
   ]
  },
  {
   "cell_type": "code",
   "execution_count": 613,
   "metadata": {},
   "outputs": [
    {
     "data": {
      "image/png": "[encoded data removed]",
      "text/plain": [
       "<Figure size 432x288 with 1 Axes>"
      ]
     },
     "metadata": {
      "needs_background": "light"
     },
     "output_type": "display_data"
    }
   ],
   "source": [
    "import matplotlib.pyplot as plt\n",
    "from sklearn.metrics import roc_curve, roc_auc_score\n",
    "#1. PCA and Neural Network\n",
    "y_pred = mlpmodel.predict(x_test)\n",
    "fpr1 , tpr1, thresholds1 = roc_curve(y_test, y_pred)\n",
    "#2. PCA and LinearSVC\n",
    "y_pred = svmmodel.predict(x_test)\n",
    "fpr2 , tpr2, thresholds2 = roc_curve(y_test, y_pred)\n",
    "#3. PCA and Random forest classifier\n",
    "y_pred = rfmodel.predict(x_test)\n",
    "fpr3 , tpr3, thresholds3 = roc_curve(y_test, y_pred)\n",
    "#4. PCA and Logistic regression\n",
    "y_pred = logpipe.predict(x_test)\n",
    "fpr4 , tpr4, thresholds4 = roc_curve(y_test, y_pred)\n",
    "#5. Hard Voting\n",
    "y_pred = hardvoteclf.predict(x_test)\n",
    "fpr5 , tpr5, thresholds5 = roc_curve(y_test, y_pred)\n",
    "#6. Logistic regression trained on resampled data\n",
    "y_pred = log_resample.predict(x_test)\n",
    "fpr6 , tpr6, thresholds6 = roc_curve(y_test, y_pred)\n",
    "#7. Logistic regression with weighted samples\n",
    "y_pred = weightedlog.predict(x_test)\n",
    "fpr7 , tpr7, thresholds7 = roc_curve(y_test, y_pred)\n",
    "#8. Boosted Random Forest Classifier\n",
    "y_pred = boostedFR.predict(x_test)\n",
    "fpr8 , tpr8, thresholds8 = roc_curve(y_test, y_pred)\n",
    "#9. Random Forest classifier Gridsearch\n",
    "y_pred = grid_forest.predict(x_test)\n",
    "fpr9 , tpr9, thresholds = roc_curve(y_test, y_pred)\n",
    "\n",
    "\n",
    "\n",
    "plt.plot([0,1],[0,1], 'k--')\n",
    "plt.plot(fpr1, tpr1, color = 'green', label= \"mlp: Neural network\")\n",
    "plt.plot(fpr2, tpr2, color = 'pink', label= \"svm: LinearSVC\")\n",
    "plt.plot(fpr3, tpr3, color = 'blue', label= \"rf: Random Forest with PCA\")\n",
    "plt.plot(fpr4, tpr4, color = 'brown', label= \"log: Logistic Regression with PCA\")\n",
    "plt.plot(fpr5, tpr5, color = 'purple', label= \"hardvoteclf\")\n",
    "plt.plot(fpr6, tpr6, color = 'black', label= \"logresample\")\n",
    "plt.plot(fpr7, tpr7, color = 'red', label= \"weightedlog\")\n",
    "plt.plot(fpr8, tpr8, color = 'yellow', label= \"boosted Random Forest Classifier\")\n",
    "plt.plot(fpr9, tpr9, color = 'grey', label= \"Gridsearch Random Forest Classifier\")\n",
    "\n",
    "plt.legend(loc='best')\n",
    "plt.xlabel(\"FPR\")\n",
    "plt.ylabel(\"TPR\")\n",
    "plt.title('ROC curves for chosen best models')\n",
    "plt.show()"
   ]
  },
  {
   "cell_type": "markdown",
   "metadata": {},
   "source": [
    "## Precision-Recall curve\n",
    "Since our data is unbalanced I thought it would be useful to look at precision and recall (for the same reason I was using f1_score instead of accuracy)In the case of unbalanced data the ROC curves present an optimistic picture of the model.\n",
    "\"The precision-recall curve shows the tradeoff between precision and recall for different threshold. A high area under the curve represents both high recall and high precision, where high precision relates to a low false positive rate, and high recall relates to a low false negative rate.\"\n",
    "https://scikit-learn.org/stable/auto_examples/model_selection/plot_precision_recall.html"
   ]
  },
  {
   "cell_type": "code",
   "execution_count": 629,
   "metadata": {},
   "outputs": [
    {
     "data": {
      "image/png": "[encoded data removed]",
      "text/plain": [
       "<Figure size 432x288 with 1 Axes>"
      ]
     },
     "metadata": {
      "needs_background": "light"
     },
     "output_type": "display_data"
    }
   ],
   "source": [
    "from sklearn.metrics import precision_recall_curve\n",
    "from sklearn.metrics import auc\n",
    "#1. PCA and Neural Network\n",
    "good_probs = mlpmodel.predict(x_test)\n",
    "precision1, recall1, _ = precision_recall_curve(y_test, good_probs)\n",
    "#2. PCA and LinearSVC\n",
    "good_probs = svmmodel.predict(x_test)\n",
    "precision2, recall2, _ = precision_recall_curve(y_test, good_probs)\n",
    "#3. PCA and Random forest classifier\n",
    "good_probs = rfmodel.predict(x_test)\n",
    "precision3, recall3, _ = precision_recall_curve(y_test, good_probs)\n",
    "#4. PCA and Logistic regression\n",
    "good_probs = logpipe.predict(x_test)\n",
    "precision4, recall4, _ = precision_recall_curve(y_test, good_probs)\n",
    "#5. Hard Voting\n",
    "good_probs = hardvoteclf.predict(x_test)\n",
    "precision5, recall5, _ = precision_recall_curve(y_test, good_probs)\n",
    "#6. Logistic regression trained on resampled data\n",
    "good_probs = log_resample.predict(x_test)\n",
    "precision6, recall6, _ = precision_recall_curve(y_test, good_probs)\n",
    "#7. Logistic regression with weighted samples\n",
    "good_probs = weightedlog.predict(x_test)\n",
    "precision7, recall7, _ = precision_recall_curve(y_test, good_probs)\n",
    "#8. Boosted Random Forest Classifier\n",
    "good_probs = boostedFR.predict(x_test)\n",
    "precision8, recall8, _ = precision_recall_curve(y_test, good_probs)\n",
    "#9. Random Forest classifier Gridsearch\n",
    "good_probs = grid_forest.predict(x_test)\n",
    "precision9, recall9, _ = precision_recall_curve(y_test, good_probs)\n",
    "\n",
    "\n",
    "plt.figure()\n",
    "plt.plot(recall1, precision1, marker=\".\",color = 'green', label= \"mlp: Neural network\")\n",
    "plt.plot(recall2, precision2, marker=\".\",color = 'pink', label = \"svm: LinearSVC\")\n",
    "plt.plot(recall3, precision3, marker=\".\",color = 'blue', label= \"rf: Random Forest with PCA\")\n",
    "plt.plot(recall4, precision4, marker=\".\",color = 'brown', label= \"log: Logistic Regression with PCA\")\n",
    "plt.plot(recall5, precision5, marker=\".\",color = 'purple', label= \"hardvoteclf\")\n",
    "plt.plot(recall6, precision6, marker=\".\",color = 'black', label= \"logresample\")\n",
    "plt.plot(recall7, precision7, marker=\".\",color = 'red', label= \"weightedlog\")\n",
    "plt.plot(recall8, precision8, marker=\".\",color = 'yellow', label= \"boosted Random Forest Classifier\")\n",
    "plt.plot(recall9, precision9, marker=\".\",color = 'grey', label= \"Gridsearch Random Forest Classifier\")\n",
    "\n",
    "plt.xlabel(\"Recall\")\n",
    "plt.ylabel(\"Precision\")\n",
    "plt.title(\"Precision-Recall\")\n",
    "plt.show()\n",
    "plt.close(\"all\")"
   ]
  },
  {
   "cell_type": "markdown",
   "metadata": {},
   "source": [
    "# Conclusion\n",
    "\n",
    "Eventhough this report might be long and disorganized, I did not want to remove my attempt at making better models. I wanted to include all my attempts in this report to show what I practised. I have included the following techniques in this report:\n",
    "- Pipelines, with PCA and the model\n",
    "- Oversampling, Undersampling, and a combination of both\n",
    "- fitting the models using sample weights\n",
    "- gridsearch, using f1_macro as a loss function\n",
    "- boosting\n",
    "- hardvoting\n",
    "- softvoting\n"
   ]
  },
  {
   "cell_type": "markdown",
   "metadata": {},
   "source": [
    "From the precision - recall curve I conclude that the Neural Network and logistic regression fitted on weighted samples (3.2.3) are the best classifiers. \n",
    "\n",
    "When I compare the three logictic regression models I created 3.2 it is clear that the logistic regression trained on oversampled data (3.2.1) performs much better than the logistic regression pipeline (with PCA). \n",
    "However, by 3.2.3 the logistic regression fitted using weighted samples performs best. "
   ]
  },
  {
   "cell_type": "markdown",
   "metadata": {},
   "source": [
    "## Questions\n",
    "- why are the labels not showing in my ROC plot?\n",
    "- Could it be the case that the boosting is making my model baised as it predicts using all predictors and weight result by accuracies. Since this is an inbalanced dataset, boosting according to accuracy might not be the best method?"
   ]
  },
  {
   "cell_type": "code",
   "execution_count": null,
   "metadata": {},
   "outputs": [],
   "source": []
  }
 ],
 "metadata": {
  "kernelspec": {
   "display_name": "Python 3",
   "language": "python",
   "name": "python3"
  },
  "language_info": {
   "codemirror_mode": {
    "name": "ipython",
    "version": 3
   },
   "file_extension": ".py",
   "mimetype": "text/x-python",
   "name": "python",
   "nbconvert_exporter": "python",
   "pygments_lexer": "ipython3",
   "version": "3.8.3"
  }
 },
 "nbformat": 4,
 "nbformat_minor": 4
}
