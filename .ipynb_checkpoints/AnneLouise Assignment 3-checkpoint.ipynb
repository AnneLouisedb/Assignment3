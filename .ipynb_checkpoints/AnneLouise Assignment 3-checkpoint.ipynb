{
 "cells": [
  {
   "cell_type": "markdown",
   "metadata": {},
   "source": [
    "# Assignment 3"
   ]
  },
  {
   "cell_type": "markdown",
   "metadata": {},
   "source": [
    "The labelling typology for the dataset identifies for each comment a higher-level classification of whether that comment ‘has a place in\n",
    "a healthy online conversation’, accompanied for\n",
    "each comment by binary labels for whether it is:\n",
    "\n",
    "(1) hostile,\n",
    "(2) antagonistic, insulting, provocative or trolling (together, ‘antagonistic’),\n",
    "(3) dismissive\n",
    "(4) condescending or patronising (together, ‘condescending’)\n",
    "(5) sarcastic\n",
    "(6) an unfair generalisation.\n",
    "\n",
    "For each label there is also an associated confidence score (between 0.5 and 1).\n",
    "\n",
    "This is a multi-label classification problem.\n",
    "Every label corresponds to a binary classification problem and each comment can belong to more than one label simultaneously. \n",
    "For example, in our case a comment may be hostile, sarcastic and dismissive at the same time."
   ]
  },
  {
   "cell_type": "code",
   "execution_count": 121,
   "metadata": {},
   "outputs": [],
   "source": [
    "import pandas as pd\n",
    "train_data_dir = \"https://raw.githubusercontent.com/conversationai/unhealthy-conversations/master/corpus/train.csv\"\n",
    "test_data_dir = \"https://raw.githubusercontent.com/conversationai/unhealthy-conversations/master/corpus/test.csv\"\n",
    "train = pd.read_csv(train_data_dir, index_col = \"_unit_id\")\n",
    "test = pd.read_csv(test_data_dir, index_col = \"_unit_id\")"
   ]
  },
  {
   "cell_type": "code",
   "execution_count": 122,
   "metadata": {},
   "outputs": [
    {
     "name": "stdout",
     "output_type": "stream",
     "text": [
      "Index(['_trusted_judgments', 'comment', 'antagonise', 'antagonise:confidence',\n",
      "       'condescending', 'condescending:confidence', 'dismissive',\n",
      "       'dismissive:confidence', 'generalisation', 'generalisation:confidence',\n",
      "       'generalisation_unfair', 'generalisation_unfair:confidence', 'healthy',\n",
      "       'healthy:confidence', 'hostile', 'hostile:confidence', 'sarcastic',\n",
      "       'sarcastic:confidence'],\n",
      "      dtype='object')\n"
     ]
    }
   ],
   "source": [
    "print(train.columns)"
   ]
  },
  {
   "cell_type": "code",
   "execution_count": 123,
   "metadata": {},
   "outputs": [
    {
     "name": "stdout",
     "output_type": "stream",
     "text": [
      "(35503, 18)\n"
     ]
    }
   ],
   "source": [
    "print(train.shape)"
   ]
  },
  {
   "cell_type": "code",
   "execution_count": 124,
   "metadata": {},
   "outputs": [
    {
     "name": "stdout",
     "output_type": "stream",
     "text": [
      "_trusted_judgments                    int64\n",
      "comment                              object\n",
      "antagonise                            int64\n",
      "antagonise:confidence               float64\n",
      "condescending                         int64\n",
      "condescending:confidence            float64\n",
      "dismissive                            int64\n",
      "dismissive:confidence               float64\n",
      "generalisation                        int64\n",
      "generalisation:confidence           float64\n",
      "generalisation_unfair               float64\n",
      "generalisation_unfair:confidence    float64\n",
      "healthy                               int64\n",
      "healthy:confidence                  float64\n",
      "hostile                               int64\n",
      "hostile:confidence                  float64\n",
      "sarcastic                             int64\n",
      "sarcastic:confidence                float64\n",
      "dtype: object\n"
     ]
    }
   ],
   "source": [
    "print(train.dtypes)"
   ]
  },
  {
   "cell_type": "code",
   "execution_count": 125,
   "metadata": {},
   "outputs": [
    {
     "name": "stdout",
     "output_type": "stream",
     "text": [
      "True\n"
     ]
    }
   ],
   "source": [
    "print(train.isnull().values.any())"
   ]
  },
  {
   "cell_type": "code",
   "execution_count": 126,
   "metadata": {
    "scrolled": true
   },
   "outputs": [
    {
     "name": "stdout",
     "output_type": "stream",
     "text": [
      "_trusted_judgments                  False\n",
      "comment                              True\n",
      "antagonise                          False\n",
      "antagonise:confidence               False\n",
      "condescending                       False\n",
      "condescending:confidence            False\n",
      "dismissive                          False\n",
      "dismissive:confidence               False\n",
      "generalisation                      False\n",
      "generalisation:confidence           False\n",
      "generalisation_unfair               False\n",
      "generalisation_unfair:confidence    False\n",
      "healthy                             False\n",
      "healthy:confidence                  False\n",
      "hostile                             False\n",
      "hostile:confidence                  False\n",
      "sarcastic                           False\n",
      "sarcastic:confidence                False\n",
      "dtype: bool\n"
     ]
    }
   ],
   "source": [
    "print(train.isna().any())"
   ]
  },
  {
   "cell_type": "markdown",
   "metadata": {},
   "source": [
    "Colums that I will use do not contain NaN values."
   ]
  },
  {
   "cell_type": "code",
   "execution_count": 127,
   "metadata": {},
   "outputs": [
    {
     "name": "stdout",
     "output_type": "stream",
     "text": [
      "            _trusted_judgments  \\\n",
      "_unit_id                         \n",
      "2297540155                   5   \n",
      "1812168131                   5   \n",
      "1739466190                   3   \n",
      "1739453667                   3   \n",
      "1739459056                   3   \n",
      "...                        ...   \n",
      "2028122744                   5   \n",
      "1739457896                   3   \n",
      "1812167305                   5   \n",
      "1739471203                   3   \n",
      "1739460996                   3   \n",
      "\n",
      "                                                      comment  antagonise  \\\n",
      "_unit_id                                                                    \n",
      "2297540155  Personally I prefer the Flying Spaghetti Monst...           0   \n",
      "1812168131  Your comparing a pipeline to a well? One that ...           0   \n",
      "1739466190  Natives refuse to even consider that their cur...           0   \n",
      "1739453667  Bush could very well win an election today in ...           0   \n",
      "1739459056  Is a Trudeau endorsement OK? After all, he sup...           0   \n",
      "...                                                       ...         ...   \n",
      "2028122744  Step 1 in building a fascist regime: get rid o...           0   \n",
      "1739457896  it takes months for political hate ads to have...           0   \n",
      "1812167305  As long as your hopes for converting the self-...           0   \n",
      "1739471203  but the comments section of wentes columns are...           0   \n",
      "1739460996  Cap and trade. Like the 'net carbon zero' logo...           0   \n",
      "\n",
      "            antagonise:confidence  condescending  condescending:confidence  \\\n",
      "_unit_id                                                                     \n",
      "2297540155                 1.0000              0                    1.0000   \n",
      "1812168131                 1.0000              0                    0.8063   \n",
      "1739466190                 1.0000              0                    1.0000   \n",
      "1739453667                 1.0000              0                    1.0000   \n",
      "1739459056                 1.0000              0                    1.0000   \n",
      "...                           ...            ...                       ...   \n",
      "2028122744                 0.8114              0                    0.7888   \n",
      "1739457896                 1.0000              0                    1.0000   \n",
      "1812167305                 1.0000              0                    1.0000   \n",
      "1739471203                 1.0000              0                    1.0000   \n",
      "1739460996                 1.0000              0                    1.0000   \n",
      "\n",
      "            dismissive  dismissive:confidence  generalisation  \\\n",
      "_unit_id                                                        \n",
      "2297540155           0                 1.0000               0   \n",
      "1812168131           0                 1.0000               0   \n",
      "1739466190           0                 1.0000               0   \n",
      "1739453667           0                 1.0000               0   \n",
      "1739459056           0                 1.0000               0   \n",
      "...                ...                    ...             ...   \n",
      "2028122744           0                 0.8114               0   \n",
      "1739457896           0                 1.0000               0   \n",
      "1812167305           0                 1.0000               0   \n",
      "1739471203           0                 1.0000               0   \n",
      "1739460996           0                 1.0000               0   \n",
      "\n",
      "            generalisation:confidence  generalisation_unfair  \\\n",
      "_unit_id                                                       \n",
      "2297540155                     1.0000                    0.0   \n",
      "1812168131                     1.0000                    0.0   \n",
      "1739466190                     1.0000                    0.0   \n",
      "1739453667                     1.0000                    0.0   \n",
      "1739459056                     1.0000                    0.0   \n",
      "...                               ...                    ...   \n",
      "2028122744                     0.6002                    0.0   \n",
      "1739457896                     1.0000                    0.0   \n",
      "1812167305                     1.0000                    0.0   \n",
      "1739471203                     1.0000                    0.0   \n",
      "1739460996                     1.0000                    0.0   \n",
      "\n",
      "            generalisation_unfair:confidence  healthy  healthy:confidence  \\\n",
      "_unit_id                                                                    \n",
      "2297540155                               1.0        1              0.7981   \n",
      "1812168131                               1.0        1              0.6081   \n",
      "1739466190                               1.0        1              1.0000   \n",
      "1739453667                               1.0        1              1.0000   \n",
      "1739459056                               1.0        1              1.0000   \n",
      "...                                      ...      ...                 ...   \n",
      "2028122744                               0.0        1              0.6125   \n",
      "1739457896                               1.0        1              1.0000   \n",
      "1812167305                               1.0        1              0.7978   \n",
      "1739471203                               1.0        1              1.0000   \n",
      "1739460996                               1.0        1              1.0000   \n",
      "\n",
      "            hostile  hostile:confidence  sarcastic  sarcastic:confidence  \n",
      "_unit_id                                                                  \n",
      "2297540155        0              1.0000          0                1.0000  \n",
      "1812168131        0              1.0000          0                0.8063  \n",
      "1739466190        0              1.0000          0                1.0000  \n",
      "1739453667        0              1.0000          0                1.0000  \n",
      "1739459056        0              1.0000          0                1.0000  \n",
      "...             ...                 ...        ...                   ...  \n",
      "2028122744        0              0.6002          0                0.6002  \n",
      "1739457896        0              1.0000          0                1.0000  \n",
      "1812167305        0              1.0000          0                1.0000  \n",
      "1739471203        0              1.0000          0                1.0000  \n",
      "1739460996        0              1.0000          0                1.0000  \n",
      "\n",
      "[32848 rows x 18 columns]\n"
     ]
    }
   ],
   "source": [
    "print(train[(train[\"healthy\"] == 1)])"
   ]
  },
  {
   "cell_type": "markdown",
   "metadata": {},
   "source": [
    "Looking at labels"
   ]
  },
  {
   "cell_type": "code",
   "execution_count": 128,
   "metadata": {},
   "outputs": [],
   "source": [
    "label = train[[\"antagonise\" , \"condescending\" , \"dismissive\" , \"generalisation\" , \"generalisation_unfair\" , \"healthy\" , \"hostile\" , \"sarcastic\"]]\n",
    "labels = label.columns\n",
    "confidence_labels = ['antagonise:confidence',\n",
    "                     'condescending:confidence',\n",
    "                     'dismissive:confidence',\n",
    "                     'generalisation:confidence',\n",
    "                     'generalisation_unfair:confidence',\n",
    "                     'hostile:confidence',\n",
    "                     'sarcastic:confidence']"
   ]
  },
  {
   "cell_type": "markdown",
   "metadata": {},
   "source": [
    "# Creating a new dataframes "
   ]
  },
  {
   "cell_type": "code",
   "execution_count": 129,
   "metadata": {},
   "outputs": [],
   "source": [
    "newtrain = pd.DataFrame()\n",
    "for feature in labels:\n",
    "    for value in train[feature]:\n",
    "        if value == 1:\n",
    "            newtrain[\"P1\" + feature] = train[feature+\":confidence\"]\n",
    "            newtrain[\"P0\" + feature] = 1 - train[feature+\":confidence\"]\n",
    "        else:\n",
    "            newtrain[\"P0\" + feature] = train[feature+\":confidence\"]\n",
    "            newtrain[\"P1\" + feature] = 1 - train[feature+\":confidence\"]"
   ]
  },
  {
   "cell_type": "code",
   "execution_count": 130,
   "metadata": {},
   "outputs": [],
   "source": [
    "x_train = newtrain.drop(['P0healthy','P1healthy'], axis = 1)\n",
    "y_train = newtrain[[\"P0healthy\",\"P1healthy\"]].copy()"
   ]
  },
  {
   "cell_type": "code",
   "execution_count": 131,
   "metadata": {},
   "outputs": [],
   "source": [
    "newtest = pd.DataFrame()\n",
    "for feature in labels:\n",
    "    for value in test[feature]:\n",
    "        if value == 1:\n",
    "            newtest[\"P1\" + feature] = test[feature+\":confidence\"]\n",
    "            newtest[\"P0\" + feature] = 1 - test[feature+\":confidence\"]\n",
    "        else:\n",
    "            newtest[\"P0\" + feature] = test[feature+\":confidence\"]\n",
    "            newtest[\"P1\" + feature] = 1 - test[feature+\":confidence\"]"
   ]
  },
  {
   "cell_type": "code",
   "execution_count": 132,
   "metadata": {},
   "outputs": [],
   "source": [
    "x_test = newtest.drop(['P0healthy','P1healthy'], axis = 1)\n",
    "y_test = newtest[[\"P0healthy\",\"P1healthy\"]].copy()"
   ]
  },
  {
   "cell_type": "code",
   "execution_count": 133,
   "metadata": {},
   "outputs": [
    {
     "name": "stdout",
     "output_type": "stream",
     "text": [
      "            P1antagonise  P0antagonise  P1condescending  P0condescending  \\\n",
      "_unit_id                                                                   \n",
      "1739460326        0.4184        0.5816           0.4184           0.5816   \n",
      "2297540155        0.0000        1.0000           0.0000           1.0000   \n",
      "1812168131        0.0000        1.0000           0.1937           0.8063   \n",
      "1739470334        0.2069        0.7931           0.4041           0.5959   \n",
      "1739466190        0.0000        1.0000           0.0000           1.0000   \n",
      "...                  ...           ...              ...              ...   \n",
      "2028122744        0.1886        0.8114           0.2112           0.7888   \n",
      "1739457896        0.0000        1.0000           0.0000           1.0000   \n",
      "1812167305        0.0000        1.0000           0.0000           1.0000   \n",
      "1739471203        0.0000        1.0000           0.0000           1.0000   \n",
      "1739460996        0.0000        1.0000           0.0000           1.0000   \n",
      "\n",
      "            P1dismissive  P0dismissive  P0generalisation  P1generalisation  \\\n",
      "_unit_id                                                                     \n",
      "1739460326        0.4184        0.5816            1.0000            0.0000   \n",
      "2297540155        0.0000        1.0000            1.0000            0.0000   \n",
      "1812168131        0.0000        1.0000            1.0000            0.0000   \n",
      "1739470334        0.4041        0.5959            1.0000            0.0000   \n",
      "1739466190        0.0000        1.0000            1.0000            0.0000   \n",
      "...                  ...           ...               ...               ...   \n",
      "2028122744        0.1886        0.8114            0.6002            0.3998   \n",
      "1739457896        0.0000        1.0000            1.0000            0.0000   \n",
      "1812167305        0.0000        1.0000            1.0000            0.0000   \n",
      "1739471203        0.0000        1.0000            1.0000            0.0000   \n",
      "1739460996        0.0000        1.0000            1.0000            0.0000   \n",
      "\n",
      "            P0generalisation_unfair  P1generalisation_unfair  P1hostile  \\\n",
      "_unit_id                                                                  \n",
      "1739460326                      1.0                      0.0     0.4184   \n",
      "2297540155                      1.0                      0.0     0.0000   \n",
      "1812168131                      1.0                      0.0     0.0000   \n",
      "1739470334                      1.0                      0.0     0.0000   \n",
      "1739466190                      1.0                      0.0     0.0000   \n",
      "...                             ...                      ...        ...   \n",
      "2028122744                      0.0                      1.0     0.3998   \n",
      "1739457896                      1.0                      0.0     0.0000   \n",
      "1812167305                      1.0                      0.0     0.0000   \n",
      "1739471203                      1.0                      0.0     0.0000   \n",
      "1739460996                      1.0                      0.0     0.0000   \n",
      "\n",
      "            P0hostile  P0sarcastic  P1sarcastic  \n",
      "_unit_id                                         \n",
      "1739460326     0.5816       0.8001       0.1999  \n",
      "2297540155     1.0000       1.0000       0.0000  \n",
      "1812168131     1.0000       0.8063       0.1937  \n",
      "1739470334     1.0000       0.6052       0.3948  \n",
      "1739466190     1.0000       1.0000       0.0000  \n",
      "...               ...          ...          ...  \n",
      "2028122744     0.6002       0.6002       0.3998  \n",
      "1739457896     1.0000       1.0000       0.0000  \n",
      "1812167305     1.0000       1.0000       0.0000  \n",
      "1739471203     1.0000       1.0000       0.0000  \n",
      "1739460996     1.0000       1.0000       0.0000  \n",
      "\n",
      "[35503 rows x 14 columns]\n"
     ]
    }
   ],
   "source": [
    "P1_labels = [\"P1antagonise\", \"P1condescending\", \n",
    "             \"P1dismissive\", \"P1generalisation\",\n",
    "             \"P1generalisation_unfair\", \"P1hostile\",\n",
    "             \"P1sarcastic\"]\n",
    "P1_labels_and_P1healthy = [\"P1healthy\", \"P1antagonise\", \"P1condescending\", \n",
    "             \"P1dismissive\", \"P1generalisation\",\n",
    "             \"P1generalisation_unfair\", \"P1hostile\",\n",
    "             \"P1sarcastic\"]\n",
    "print(x_train)"
   ]
  },
  {
   "cell_type": "code",
   "execution_count": 134,
   "metadata": {
    "scrolled": true
   },
   "outputs": [
    {
     "name": "stdout",
     "output_type": "stream",
     "text": [
      "            P0healthy  P1healthy\n",
      "_unit_id                        \n",
      "1739460326     0.4184     0.5816\n",
      "2297540155     0.2019     0.7981\n",
      "1812168131     0.3919     0.6081\n",
      "1739470334     0.2083     0.7917\n",
      "1739466190     0.0000     1.0000\n",
      "...               ...        ...\n",
      "2028122744     0.3875     0.6125\n",
      "1739457896     0.0000     1.0000\n",
      "1812167305     0.2022     0.7978\n",
      "1739471203     0.0000     1.0000\n",
      "1739460996     0.0000     1.0000\n",
      "\n",
      "[35503 rows x 2 columns]\n"
     ]
    }
   ],
   "source": [
    "print(y_train)"
   ]
  },
  {
   "cell_type": "markdown",
   "metadata": {},
   "source": [
    "# Looking at labels"
   ]
  },
  {
   "cell_type": "code",
   "execution_count": 135,
   "metadata": {},
   "outputs": [
    {
     "data": {
      "image/png": "[encoded data removed]",
      "text/plain": [
       "<Figure size 432x288 with 1 Axes>"
      ]
     },
     "metadata": {
      "needs_background": "light"
     },
     "output_type": "display_data"
    }
   ],
   "source": [
    "import matplotlib.pyplot as plt\n",
    "import seaborn as sns\n",
    "\n",
    "plt.figure()\n",
    "sns.barplot(x_train.columns, (x_train.sum().values/ len(x_train)), alpha=0.8)\n",
    "plt.title(\"# per class\")\n",
    "plt.ylabel('# of Occurrences', fontsize=12)\n",
    "plt.xlabel('Type ', fontsize=12)\n",
    "plt.show()\n"
   ]
  },
  {
   "cell_type": "code",
   "execution_count": 136,
   "metadata": {},
   "outputs": [
    {
     "data": {
      "image/png": "[encoded data removed]",
      "text/plain": [
       "<Figure size 432x288 with 1 Axes>"
      ]
     },
     "metadata": {
      "needs_background": "light"
     },
     "output_type": "display_data"
    }
   ],
   "source": [
    "plt.figure()\n",
    "sns.barplot(y_train.columns, (y_train.sum().values/ len(x_train)), alpha=0.8)\n",
    "plt.title(\"average confidence in (un)healthy comments\")\n",
    "plt.ylabel('average confidence', fontsize=12)\n",
    "plt.xlabel('Type ', fontsize=12)\n",
    "plt.show()"
   ]
  },
  {
   "cell_type": "code",
   "execution_count": 137,
   "metadata": {},
   "outputs": [
    {
     "ename": "SyntaxError",
     "evalue": "positional argument follows keyword argument (<ipython-input-137-6999f5671a77>, line 2)",
     "output_type": "error",
     "traceback": [
      "\u001b[0;36m  File \u001b[0;32m\"<ipython-input-137-6999f5671a77>\"\u001b[0;36m, line \u001b[0;32m2\u001b[0m\n\u001b[0;31m    plt.figure(figsize = 10,8)\u001b[0m\n\u001b[0m                            ^\u001b[0m\n\u001b[0;31mSyntaxError\u001b[0m\u001b[0;31m:\u001b[0m positional argument follows keyword argument\n"
     ]
    }
   ],
   "source": [
    "corr = newtrain.corr()\n",
    "plt.figure(figsize = 10,8)"
   ]
  },
  {
   "cell_type": "code",
   "execution_count": null,
   "metadata": {},
   "outputs": [],
   "source": [
    "corrtrain = newtrain[P1_labels_and_P1healthy]\n",
    "corr= corrtrain.corr()\n",
    "plt.figure(figsize=(10,8))\n",
    "sns.heatmap(corr,\n",
    "            xticklabels=corr.columns.values,\n",
    "            yticklabels=corr.columns.values, annot=True)"
   ]
  },
  {
   "cell_type": "markdown",
   "metadata": {},
   "source": [
    "Reading:\n",
    "https://towardsdatascience.com/understanding-binary-cross-entropy-log-loss-a-visual-explanation-a3ac6025181a\n",
    "\n",
    "p0: probability that the label is 0.\n",
    "\n",
    "p1: probability that the label is 1.\n",
    "\n",
    "cross entropy loss compares the prediction from the classifier to the distribution\n",
    "label is 0, confidence is 0.8. Then (0.8, 0.2)\n",
    "compute the cross-entropy of the classifiers prediction with respect to the distribution (0.2, 0.8).\n",
    "The sum over all the instances of the training set will be the adjusted loss function.\n",
    "\n",
    "Log loss:\n",
    "y is the label (1 for healthy and 0 for unhealthy) and p(y) is the predicted probability\n",
    "of the comment being healthy for all N comments.\n",
    "\n",
    "Reading:\n",
    "https://datascience.stackexchange.com/questions/19186/can-training-label-confidence-be-used-to-improve-prediction-accuracy\n",
    "\n",
    "#Cross entropy as loss function\n",
    "\n",
    "cross entropy between two probability distributions H(P,Q) = - sum x in XP(x)*log(Q(x))\n",
    "P(x) is the probability of the event x in P.\n",
    "Q(x) is the probability of the event x in Q.\n",
    "log is the base-2 logarithm\n",
    "\n",
    "Reading:\n",
    "https://machinelearningmastery.com/how-to-score-probability-predictions-in-python/\n",
    "\n",
    "Log loss, or cross entropy:\n",
    "Every predicted probability is compared to the actual class output value (0 or 1) and a score is calculated that penalizes the probability based on the distance from the expected value.\n",
    "The penalty is logarithmic, offering a small score for small differences (0.1 or 0.2) and enormous score\n",
    "for a large difference (0.9 or 1.0).\n",
    "Thus, a perfect model has a log loss score of nearly 0.00. (due to the log)\n",
    "\n",
    "\n"
   ]
  },
  {
   "cell_type": "markdown",
   "metadata": {},
   "source": [
    "https://machinelearningmastery.com/loss-and-loss-functions-for-training-deep-learning-neural-networks/\n",
    "\"The Python function below provides a pseudocode-like working implementation of a function for calculating the cross-entropy for a list of actual 0 and 1 values compared to predicted probabilities for the class 1.\"\n",
    "\n",
    "\"Cross-entropy can be calculated for multiple-class classification. The classes have been one hot encoded, meaning that there is a binary feature for each class value and the predictions must have predicted probabilities for each of the classes. The cross-entropy is then summed across each binary feature and averaged across all examples in the dataset.\"\n",
    "\n"
   ]
  },
  {
   "cell_type": "code",
   "execution_count": null,
   "metadata": {},
   "outputs": [],
   "source": [
    "from math import log\n",
    " \n",
    "# calculate binary cross entropy\n",
    "def binary_cross_entropy(actual, predicted):\n",
    "\tsum_score = 0.0\n",
    "\tfor i in range(len(actual)):\n",
    "\t\tsum_score += actual[i] * log(1e-15 + predicted[i])\n",
    "\tmean_sum_score = 1.0 / len(actual) * sum_score\n",
    "\treturn -mean_sum_score"
   ]
  },
  {
   "cell_type": "markdown",
   "metadata": {},
   "source": [
    "https://en.wikipedia.org/wiki/Multi-label_classification\n",
    "\n",
    "Wikipedia provides a clear explaination of the multi-label classification. The 3 transformations are the following:\n",
    "1. Transform to Binary classification\n",
    "\n",
    "Training one binary classifier for each label. We are dividing the task into multiple binary tasks, the single classifiers deal with a single label, labels are predicted sequentially and the outputs of previous classifiers are input as features to subsequent classifiers.\n",
    "2. Transform to multi-class classification problem\n",
    "\n",
    "The label powerset (LP) transformation creates one binary classifier for every label combination present in the training set. \n",
    "3. Ensemble methods\n",
    "\n",
    "A set of multi-class classifiers can be used to create a multi-label ensemble classifier. Each classifier outputs a single class (one label in the multi-label problem) These predictions are then combined by an ensemble method. "
   ]
  },
  {
   "cell_type": "markdown",
   "metadata": {},
   "source": [
    "# 1. Transform to Binary Classification"
   ]
  },
  {
   "cell_type": "markdown",
   "metadata": {},
   "source": [
    "The data set is unbalanced because the number of healthy and unhealthy comments are unbalanced. In this case binary_crossentropy is the loss function because it independently optimises each class."
   ]
  },
  {
   "cell_type": "code",
   "execution_count": null,
   "metadata": {},
   "outputs": [],
   "source": [
    "y_train_healthy = [(y_train[\"P1healthy\"] > 0.5)]\n",
    "y_train_unhealthy = [(y_train[\"P1healthy\"] < 0.5)]\n",
    "\n",
    "y_test_healhty = [(y_test[\"P1healthy\"] > 0.5)]\n",
    "y_test_unhealthy = [(y_test[\"P1healthy\"] < 0.5)]"
   ]
  },
  {
   "cell_type": "code",
   "execution_count": null,
   "metadata": {},
   "outputs": [],
   "source": [
    "x_train_antagonize = x_train[\"P1antagonise\"]\n",
    "x_train_condescending = x_train[\"P1condescending\"]\n",
    "x_train_dismissive = x_train[\"P1dismissive\"]\n",
    "x_train_generalisation= x_train[\"P1generalisation\"]\n",
    "x_train_generalisation_unfair = x_train[\"P1generalisation_unfair\"]\n",
    "x_train_hostile = x_train[\"P1hostile\"]\n",
    "x_train_sarcastic = x_train[\"P1sarcastic\"]"
   ]
  },
  {
   "cell_type": "code",
   "execution_count": null,
   "metadata": {},
   "outputs": [],
   "source": [
    "x_test_antagonize = x_test[\"P1antagonise\"]\n",
    "x_test_condescending = x_test[\"P1condescending\"]\n",
    "x_test_dismissive = x_test[\"P1dismissive\"]\n",
    "x_test_generalisation= x_test[\"P1generalisation\"]\n",
    "x_test_generalisation_unfair = x_test[\"P1generalisation_unfair\"]\n",
    "x_test_hostile = x_test[\"P1hostile\"]\n",
    "x_test_sarcastic = x_test[\"P1sarcastic\"]\n"
   ]
  },
  {
   "cell_type": "code",
   "execution_count": 146,
   "metadata": {},
   "outputs": [
    {
     "ename": "KeyError",
     "evalue": "'P1healthy'",
     "output_type": "error",
     "traceback": [
      "\u001b[0;31m---------------------------------------------------------------------------\u001b[0m",
      "\u001b[0;31mKeyError\u001b[0m                                  Traceback (most recent call last)",
      "\u001b[0;32m<ipython-input-146-5c3acbb81b52>\u001b[0m in \u001b[0;36m<module>\u001b[0;34m\u001b[0m\n\u001b[1;32m      1\u001b[0m \u001b[0mx_train\u001b[0m \u001b[0;34m=\u001b[0m \u001b[0mx_train\u001b[0m\u001b[0;34m[\u001b[0m\u001b[0mP1_labels\u001b[0m\u001b[0;34m]\u001b[0m\u001b[0;34m\u001b[0m\u001b[0;34m\u001b[0m\u001b[0m\n\u001b[1;32m      2\u001b[0m \u001b[0mx_test\u001b[0m \u001b[0;34m=\u001b[0m \u001b[0mx_test\u001b[0m\u001b[0;34m[\u001b[0m\u001b[0mP1_labels\u001b[0m\u001b[0;34m]\u001b[0m\u001b[0;34m\u001b[0m\u001b[0;34m\u001b[0m\u001b[0m\n\u001b[0;32m----> 3\u001b[0;31m \u001b[0my_train\u001b[0m \u001b[0;34m=\u001b[0m \u001b[0my_train\u001b[0m\u001b[0;34m[\u001b[0m\u001b[0;34m\"P1healthy\"\u001b[0m\u001b[0;34m]\u001b[0m\u001b[0;34m\u001b[0m\u001b[0;34m\u001b[0m\u001b[0m\n\u001b[0m\u001b[1;32m      4\u001b[0m \u001b[0my_test\u001b[0m \u001b[0;34m=\u001b[0m \u001b[0my_test\u001b[0m\u001b[0;34m[\u001b[0m\u001b[0;34m\"P1healthy\"\u001b[0m\u001b[0;34m]\u001b[0m\u001b[0;34m\u001b[0m\u001b[0;34m\u001b[0m\u001b[0m\n",
      "\u001b[0;32m~/opt/anaconda3/lib/python3.8/site-packages/pandas/core/series.py\u001b[0m in \u001b[0;36m__getitem__\u001b[0;34m(self, key)\u001b[0m\n\u001b[1;32m    869\u001b[0m         \u001b[0mkey\u001b[0m \u001b[0;34m=\u001b[0m \u001b[0mcom\u001b[0m\u001b[0;34m.\u001b[0m\u001b[0mapply_if_callable\u001b[0m\u001b[0;34m(\u001b[0m\u001b[0mkey\u001b[0m\u001b[0;34m,\u001b[0m \u001b[0mself\u001b[0m\u001b[0;34m)\u001b[0m\u001b[0;34m\u001b[0m\u001b[0;34m\u001b[0m\u001b[0m\n\u001b[1;32m    870\u001b[0m         \u001b[0;32mtry\u001b[0m\u001b[0;34m:\u001b[0m\u001b[0;34m\u001b[0m\u001b[0;34m\u001b[0m\u001b[0m\n\u001b[0;32m--> 871\u001b[0;31m             \u001b[0mresult\u001b[0m \u001b[0;34m=\u001b[0m \u001b[0mself\u001b[0m\u001b[0;34m.\u001b[0m\u001b[0mindex\u001b[0m\u001b[0;34m.\u001b[0m\u001b[0mget_value\u001b[0m\u001b[0;34m(\u001b[0m\u001b[0mself\u001b[0m\u001b[0;34m,\u001b[0m \u001b[0mkey\u001b[0m\u001b[0;34m)\u001b[0m\u001b[0;34m\u001b[0m\u001b[0;34m\u001b[0m\u001b[0m\n\u001b[0m\u001b[1;32m    872\u001b[0m \u001b[0;34m\u001b[0m\u001b[0m\n\u001b[1;32m    873\u001b[0m             \u001b[0;32mif\u001b[0m \u001b[0;32mnot\u001b[0m \u001b[0mis_scalar\u001b[0m\u001b[0;34m(\u001b[0m\u001b[0mresult\u001b[0m\u001b[0;34m)\u001b[0m\u001b[0;34m:\u001b[0m\u001b[0;34m\u001b[0m\u001b[0;34m\u001b[0m\u001b[0m\n",
      "\u001b[0;32m~/opt/anaconda3/lib/python3.8/site-packages/pandas/core/indexes/base.py\u001b[0m in \u001b[0;36mget_value\u001b[0;34m(self, series, key)\u001b[0m\n\u001b[1;32m   4403\u001b[0m         \u001b[0mk\u001b[0m \u001b[0;34m=\u001b[0m \u001b[0mself\u001b[0m\u001b[0;34m.\u001b[0m\u001b[0m_convert_scalar_indexer\u001b[0m\u001b[0;34m(\u001b[0m\u001b[0mk\u001b[0m\u001b[0;34m,\u001b[0m \u001b[0mkind\u001b[0m\u001b[0;34m=\u001b[0m\u001b[0;34m\"getitem\"\u001b[0m\u001b[0;34m)\u001b[0m\u001b[0;34m\u001b[0m\u001b[0;34m\u001b[0m\u001b[0m\n\u001b[1;32m   4404\u001b[0m         \u001b[0;32mtry\u001b[0m\u001b[0;34m:\u001b[0m\u001b[0;34m\u001b[0m\u001b[0;34m\u001b[0m\u001b[0m\n\u001b[0;32m-> 4405\u001b[0;31m             \u001b[0;32mreturn\u001b[0m \u001b[0mself\u001b[0m\u001b[0;34m.\u001b[0m\u001b[0m_engine\u001b[0m\u001b[0;34m.\u001b[0m\u001b[0mget_value\u001b[0m\u001b[0;34m(\u001b[0m\u001b[0ms\u001b[0m\u001b[0;34m,\u001b[0m \u001b[0mk\u001b[0m\u001b[0;34m,\u001b[0m \u001b[0mtz\u001b[0m\u001b[0;34m=\u001b[0m\u001b[0mgetattr\u001b[0m\u001b[0;34m(\u001b[0m\u001b[0mseries\u001b[0m\u001b[0;34m.\u001b[0m\u001b[0mdtype\u001b[0m\u001b[0;34m,\u001b[0m \u001b[0;34m\"tz\"\u001b[0m\u001b[0;34m,\u001b[0m \u001b[0;32mNone\u001b[0m\u001b[0;34m)\u001b[0m\u001b[0;34m)\u001b[0m\u001b[0;34m\u001b[0m\u001b[0;34m\u001b[0m\u001b[0m\n\u001b[0m\u001b[1;32m   4406\u001b[0m         \u001b[0;32mexcept\u001b[0m \u001b[0mKeyError\u001b[0m \u001b[0;32mas\u001b[0m \u001b[0me1\u001b[0m\u001b[0;34m:\u001b[0m\u001b[0;34m\u001b[0m\u001b[0;34m\u001b[0m\u001b[0m\n\u001b[1;32m   4407\u001b[0m             \u001b[0;32mif\u001b[0m \u001b[0mlen\u001b[0m\u001b[0;34m(\u001b[0m\u001b[0mself\u001b[0m\u001b[0;34m)\u001b[0m \u001b[0;34m>\u001b[0m \u001b[0;36m0\u001b[0m \u001b[0;32mand\u001b[0m \u001b[0;34m(\u001b[0m\u001b[0mself\u001b[0m\u001b[0;34m.\u001b[0m\u001b[0mholds_integer\u001b[0m\u001b[0;34m(\u001b[0m\u001b[0;34m)\u001b[0m \u001b[0;32mor\u001b[0m \u001b[0mself\u001b[0m\u001b[0;34m.\u001b[0m\u001b[0mis_boolean\u001b[0m\u001b[0;34m(\u001b[0m\u001b[0;34m)\u001b[0m\u001b[0;34m)\u001b[0m\u001b[0;34m:\u001b[0m\u001b[0;34m\u001b[0m\u001b[0;34m\u001b[0m\u001b[0m\n",
      "\u001b[0;32mpandas/_libs/index.pyx\u001b[0m in \u001b[0;36mpandas._libs.index.IndexEngine.get_value\u001b[0;34m()\u001b[0m\n",
      "\u001b[0;32mpandas/_libs/index.pyx\u001b[0m in \u001b[0;36mpandas._libs.index.IndexEngine.get_value\u001b[0;34m()\u001b[0m\n",
      "\u001b[0;32mpandas/_libs/index.pyx\u001b[0m in \u001b[0;36mpandas._libs.index.IndexEngine.get_loc\u001b[0;34m()\u001b[0m\n",
      "\u001b[0;32mpandas/_libs/index_class_helper.pxi\u001b[0m in \u001b[0;36mpandas._libs.index.Int64Engine._check_type\u001b[0;34m()\u001b[0m\n",
      "\u001b[0;31mKeyError\u001b[0m: 'P1healthy'"
     ]
    }
   ],
   "source": [
    "x_train = x_train[P1_labels]\n",
    "x_test = x_test[P1_labels]\n",
    "y_train = y_train[\"P1healthy\"]\n",
    "y_test = y_test[\"P1healthy\"]"
   ]
  },
  {
   "cell_type": "code",
   "execution_count": 144,
   "metadata": {},
   "outputs": [],
   "source": [
    "from sklearn.ensemble import RandomForestClassifier\n",
    "from sklearn.model_selection import cross_val_predict, cross_val_score\n",
    "from sklearn.metrics import roc_auc_score\n",
    "\n",
    "forest_clf = RandomForestClassifier(n_estimators=100, random_state=42)"
   ]
  },
  {
   "cell_type": "markdown",
   "metadata": {},
   "source": [
    "## Label 1: Antagonise"
   ]
  },
  {
   "cell_type": "code",
   "execution_count": 147,
   "metadata": {},
   "outputs": [
    {
     "ename": "KeyError",
     "evalue": "'P1healthy'",
     "output_type": "error",
     "traceback": [
      "\u001b[0;31m---------------------------------------------------------------------------\u001b[0m",
      "\u001b[0;31mKeyError\u001b[0m                                  Traceback (most recent call last)",
      "\u001b[0;32m<ipython-input-147-9f18682dd479>\u001b[0m in \u001b[0;36m<module>\u001b[0;34m\u001b[0m\n\u001b[1;32m      1\u001b[0m \u001b[0mx\u001b[0m \u001b[0;34m=\u001b[0m \u001b[0mx_train\u001b[0m\u001b[0;34m[\u001b[0m\u001b[0;34m\"P1antagonise\"\u001b[0m\u001b[0;34m]\u001b[0m\u001b[0;34m.\u001b[0m\u001b[0mvalues\u001b[0m\u001b[0;34m.\u001b[0m\u001b[0mreshape\u001b[0m\u001b[0;34m(\u001b[0m\u001b[0;34m-\u001b[0m\u001b[0;36m1\u001b[0m\u001b[0;34m,\u001b[0m\u001b[0;36m1\u001b[0m\u001b[0;34m)\u001b[0m\u001b[0;34m\u001b[0m\u001b[0;34m\u001b[0m\u001b[0m\n\u001b[0;32m----> 2\u001b[0;31m \u001b[0my\u001b[0m \u001b[0;34m=\u001b[0m \u001b[0my_train\u001b[0m\u001b[0;34m[\u001b[0m\u001b[0;34m\"P1healthy\"\u001b[0m\u001b[0;34m]\u001b[0m\u001b[0;34m.\u001b[0m\u001b[0mvalues\u001b[0m\u001b[0;34m\u001b[0m\u001b[0;34m\u001b[0m\u001b[0m\n\u001b[0m\u001b[1;32m      3\u001b[0m \u001b[0mprint\u001b[0m\u001b[0;34m(\u001b[0m\u001b[0my\u001b[0m\u001b[0;34m)\u001b[0m\u001b[0;34m\u001b[0m\u001b[0;34m\u001b[0m\u001b[0m\n",
      "\u001b[0;32m~/opt/anaconda3/lib/python3.8/site-packages/pandas/core/series.py\u001b[0m in \u001b[0;36m__getitem__\u001b[0;34m(self, key)\u001b[0m\n\u001b[1;32m    869\u001b[0m         \u001b[0mkey\u001b[0m \u001b[0;34m=\u001b[0m \u001b[0mcom\u001b[0m\u001b[0;34m.\u001b[0m\u001b[0mapply_if_callable\u001b[0m\u001b[0;34m(\u001b[0m\u001b[0mkey\u001b[0m\u001b[0;34m,\u001b[0m \u001b[0mself\u001b[0m\u001b[0;34m)\u001b[0m\u001b[0;34m\u001b[0m\u001b[0;34m\u001b[0m\u001b[0m\n\u001b[1;32m    870\u001b[0m         \u001b[0;32mtry\u001b[0m\u001b[0;34m:\u001b[0m\u001b[0;34m\u001b[0m\u001b[0;34m\u001b[0m\u001b[0m\n\u001b[0;32m--> 871\u001b[0;31m             \u001b[0mresult\u001b[0m \u001b[0;34m=\u001b[0m \u001b[0mself\u001b[0m\u001b[0;34m.\u001b[0m\u001b[0mindex\u001b[0m\u001b[0;34m.\u001b[0m\u001b[0mget_value\u001b[0m\u001b[0;34m(\u001b[0m\u001b[0mself\u001b[0m\u001b[0;34m,\u001b[0m \u001b[0mkey\u001b[0m\u001b[0;34m)\u001b[0m\u001b[0;34m\u001b[0m\u001b[0;34m\u001b[0m\u001b[0m\n\u001b[0m\u001b[1;32m    872\u001b[0m \u001b[0;34m\u001b[0m\u001b[0m\n\u001b[1;32m    873\u001b[0m             \u001b[0;32mif\u001b[0m \u001b[0;32mnot\u001b[0m \u001b[0mis_scalar\u001b[0m\u001b[0;34m(\u001b[0m\u001b[0mresult\u001b[0m\u001b[0;34m)\u001b[0m\u001b[0;34m:\u001b[0m\u001b[0;34m\u001b[0m\u001b[0;34m\u001b[0m\u001b[0m\n",
      "\u001b[0;32m~/opt/anaconda3/lib/python3.8/site-packages/pandas/core/indexes/base.py\u001b[0m in \u001b[0;36mget_value\u001b[0;34m(self, series, key)\u001b[0m\n\u001b[1;32m   4403\u001b[0m         \u001b[0mk\u001b[0m \u001b[0;34m=\u001b[0m \u001b[0mself\u001b[0m\u001b[0;34m.\u001b[0m\u001b[0m_convert_scalar_indexer\u001b[0m\u001b[0;34m(\u001b[0m\u001b[0mk\u001b[0m\u001b[0;34m,\u001b[0m \u001b[0mkind\u001b[0m\u001b[0;34m=\u001b[0m\u001b[0;34m\"getitem\"\u001b[0m\u001b[0;34m)\u001b[0m\u001b[0;34m\u001b[0m\u001b[0;34m\u001b[0m\u001b[0m\n\u001b[1;32m   4404\u001b[0m         \u001b[0;32mtry\u001b[0m\u001b[0;34m:\u001b[0m\u001b[0;34m\u001b[0m\u001b[0;34m\u001b[0m\u001b[0m\n\u001b[0;32m-> 4405\u001b[0;31m             \u001b[0;32mreturn\u001b[0m \u001b[0mself\u001b[0m\u001b[0;34m.\u001b[0m\u001b[0m_engine\u001b[0m\u001b[0;34m.\u001b[0m\u001b[0mget_value\u001b[0m\u001b[0;34m(\u001b[0m\u001b[0ms\u001b[0m\u001b[0;34m,\u001b[0m \u001b[0mk\u001b[0m\u001b[0;34m,\u001b[0m \u001b[0mtz\u001b[0m\u001b[0;34m=\u001b[0m\u001b[0mgetattr\u001b[0m\u001b[0;34m(\u001b[0m\u001b[0mseries\u001b[0m\u001b[0;34m.\u001b[0m\u001b[0mdtype\u001b[0m\u001b[0;34m,\u001b[0m \u001b[0;34m\"tz\"\u001b[0m\u001b[0;34m,\u001b[0m \u001b[0;32mNone\u001b[0m\u001b[0;34m)\u001b[0m\u001b[0;34m)\u001b[0m\u001b[0;34m\u001b[0m\u001b[0;34m\u001b[0m\u001b[0m\n\u001b[0m\u001b[1;32m   4406\u001b[0m         \u001b[0;32mexcept\u001b[0m \u001b[0mKeyError\u001b[0m \u001b[0;32mas\u001b[0m \u001b[0me1\u001b[0m\u001b[0;34m:\u001b[0m\u001b[0;34m\u001b[0m\u001b[0;34m\u001b[0m\u001b[0m\n\u001b[1;32m   4407\u001b[0m             \u001b[0;32mif\u001b[0m \u001b[0mlen\u001b[0m\u001b[0;34m(\u001b[0m\u001b[0mself\u001b[0m\u001b[0;34m)\u001b[0m \u001b[0;34m>\u001b[0m \u001b[0;36m0\u001b[0m \u001b[0;32mand\u001b[0m \u001b[0;34m(\u001b[0m\u001b[0mself\u001b[0m\u001b[0;34m.\u001b[0m\u001b[0mholds_integer\u001b[0m\u001b[0;34m(\u001b[0m\u001b[0;34m)\u001b[0m \u001b[0;32mor\u001b[0m \u001b[0mself\u001b[0m\u001b[0;34m.\u001b[0m\u001b[0mis_boolean\u001b[0m\u001b[0;34m(\u001b[0m\u001b[0;34m)\u001b[0m\u001b[0;34m)\u001b[0m\u001b[0;34m:\u001b[0m\u001b[0;34m\u001b[0m\u001b[0;34m\u001b[0m\u001b[0m\n",
      "\u001b[0;32mpandas/_libs/index.pyx\u001b[0m in \u001b[0;36mpandas._libs.index.IndexEngine.get_value\u001b[0;34m()\u001b[0m\n",
      "\u001b[0;32mpandas/_libs/index.pyx\u001b[0m in \u001b[0;36mpandas._libs.index.IndexEngine.get_value\u001b[0;34m()\u001b[0m\n",
      "\u001b[0;32mpandas/_libs/index.pyx\u001b[0m in \u001b[0;36mpandas._libs.index.IndexEngine.get_loc\u001b[0;34m()\u001b[0m\n",
      "\u001b[0;32mpandas/_libs/index_class_helper.pxi\u001b[0m in \u001b[0;36mpandas._libs.index.Int64Engine._check_type\u001b[0;34m()\u001b[0m\n",
      "\u001b[0;31mKeyError\u001b[0m: 'P1healthy'"
     ]
    }
   ],
   "source": [
    "x = x_train[\"P1antagonise\"].values.reshape(-1,1)\n",
    "y = y_train[\"P1healthy\"].values\n",
    "print(y)"
   ]
  },
  {
   "cell_type": "code",
   "execution_count": null,
   "metadata": {},
   "outputs": [],
   "source": [
    "y_probas_antagonise = cross_val_predict(forest_clf, \n",
    "                                        x,\n",
    "                                        y,\n",
    "                                        cv=3,\n",
    "                                        method=\"predict_proba\")\n",
    "\n",
    "from sklearn.model_selection import cross_val_score\n",
    "cross_val_score(forest_clf, x, y, cv=3, scoring=\"accuracy\")\n",
    "\n",
    "\n"
   ]
  },
  {
   "cell_type": "code",
   "execution_count": null,
   "metadata": {},
   "outputs": [],
   "source": [
    "print(y)\n",
    "print(y_scores_forest_antagonise)"
   ]
  },
  {
   "cell_type": "markdown",
   "metadata": {},
   "source": [
    "## Label 2: condescending"
   ]
  },
  {
   "cell_type": "code",
   "execution_count": null,
   "metadata": {},
   "outputs": [],
   "source": []
  },
  {
   "cell_type": "code",
   "execution_count": null,
   "metadata": {},
   "outputs": [],
   "source": []
  },
  {
   "cell_type": "markdown",
   "metadata": {},
   "source": [
    "## Label 3: dismissive"
   ]
  },
  {
   "cell_type": "code",
   "execution_count": null,
   "metadata": {},
   "outputs": [],
   "source": []
  },
  {
   "cell_type": "markdown",
   "metadata": {},
   "source": [
    "## Label 4: generalisation"
   ]
  },
  {
   "cell_type": "code",
   "execution_count": null,
   "metadata": {},
   "outputs": [],
   "source": []
  },
  {
   "cell_type": "markdown",
   "metadata": {},
   "source": [
    "## Label 5: generalisation_unfair"
   ]
  },
  {
   "cell_type": "code",
   "execution_count": null,
   "metadata": {},
   "outputs": [],
   "source": []
  },
  {
   "cell_type": "markdown",
   "metadata": {},
   "source": [
    "## Label 6: hostile"
   ]
  },
  {
   "cell_type": "code",
   "execution_count": null,
   "metadata": {},
   "outputs": [],
   "source": []
  },
  {
   "cell_type": "markdown",
   "metadata": {},
   "source": [
    "## Label 7: sarcastic"
   ]
  },
  {
   "cell_type": "code",
   "execution_count": null,
   "metadata": {},
   "outputs": [],
   "source": []
  },
  {
   "cell_type": "markdown",
   "metadata": {},
   "source": [
    "# 2. Transform to multi-class classification problem"
   ]
  },
  {
   "cell_type": "markdown",
   "metadata": {},
   "source": [
    "# 3. Ensemble Method"
   ]
  },
  {
   "cell_type": "code",
   "execution_count": null,
   "metadata": {},
   "outputs": [],
   "source": []
  }
 ],
 "metadata": {
  "kernelspec": {
   "display_name": "Python 3",
   "language": "python",
   "name": "python3"
  },
  "language_info": {
   "codemirror_mode": {
    "name": "ipython",
    "version": 3
   },
   "file_extension": ".py",
   "mimetype": "text/x-python",
   "name": "python",
   "nbconvert_exporter": "python",
   "pygments_lexer": "ipython3",
   "version": "3.8.3"
  }
 },
 "nbformat": 4,
 "nbformat_minor": 4
}
